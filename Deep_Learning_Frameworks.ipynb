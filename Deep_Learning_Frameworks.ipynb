{
  "nbformat": 4,
  "nbformat_minor": 0,
  "metadata": {
    "colab": {
      "provenance": [],
      "authorship_tag": "ABX9TyMER0OXhnPTHTh0nGPBfj5M",
      "include_colab_link": true
    },
    "kernelspec": {
      "name": "python3",
      "display_name": "Python 3"
    },
    "language_info": {
      "name": "python"
    }
  },
  "cells": [
    {
      "cell_type": "markdown",
      "metadata": {
        "id": "view-in-github",
        "colab_type": "text"
      },
      "source": [
        "<a href=\"https://colab.research.google.com/github/01anmolkumar/Assignment/blob/main/Deep_Learning_Frameworks.ipynb\" target=\"_parent\"><img src=\"https://colab.research.google.com/assets/colab-badge.svg\" alt=\"Open In Colab\"/></a>"
      ]
    },
    {
      "cell_type": "markdown",
      "source": [
        "# Deep Learning Frameworks"
      ],
      "metadata": {
        "id": "9NAH2B4SIARV"
      }
    },
    {
      "cell_type": "markdown",
      "source": [
        "**Q1. What is TensorFlow 2.0, and how is it different from TensorFlow 1.x**\n",
        "\n",
        "Answer :-\n",
        "\n",
        "* TensorFlow 2.0 is an open-source deep learning framework developed by Google for building, training, and deploying machine learning models.\n",
        "\n",
        "* It enables **eager execution by default**, meaning operations run immediately as they are called, which makes debugging and development easier.\n",
        "\n",
        "* It has **Keras integrated as the official high-level API**, making model creation and training more intuitive.\n",
        "\n",
        "* Many redundant or outdated APIs from TensorFlow 1.x have been removed, simplifying the framework.\n",
        "\n",
        "* **Differences from TensorFlow 1.x:**\n",
        "  * Eager execution by default instead of static computation graph in 1.x.\n",
        "  * Tighter integration with Keras for model definition.\n",
        "  * More Pythonic and user-friendly APIs.\n",
        "  * Better compatibility with TensorFlow Hub and other libraries.\n",
        "  * Improved performance and distributed training support.\n",
        "\n",
        "* In summary, TensorFlow 2.0 is cleaner, more beginner-friendly, and faster for prototyping compared to TensorFlow 1.x.\n"
      ],
      "metadata": {
        "id": "F_cNHT_BILqP"
      }
    },
    {
      "cell_type": "markdown",
      "source": [
        "**Q2. How do you install TensorFlow 2.0**\n",
        "\n",
        "Answer :-\n",
        "\n",
        "* TensorFlow 2.0 can be installed using Python's package manager **pip**.\n",
        "\n",
        "* **Steps to install:**\n",
        "  1. Make sure Python and pip are installed on your system.\n",
        "  2. Open the command prompt (Windows) or terminal (Mac/Linux).\n",
        "  3. Run the following command:\n",
        "     ```\n",
        "     pip install tensorflow==2.0.0\n",
        "     ```\n",
        "\n",
        "* After installation, you can verify it by running:\n",
        "  ```python\n",
        "  import tensorflow as tf\n",
        "  print(tf.__version__)\n"
      ],
      "metadata": {
        "id": "d0sP-eewIvIY"
      }
    },
    {
      "cell_type": "markdown",
      "source": [
        "**Q3. What is the primary function of the tf.function in TensorFlow 2.0**\n",
        "\n",
        "Answer :-\n",
        "\n",
        "* In TensorFlow 2.0, `tf.function` is used to convert a regular Python function into a **TensorFlow graph** for faster execution.\n",
        "\n",
        "* By default, TensorFlow 2.0 runs in **eager execution mode**, which is easier for debugging but can be slower.\n",
        "\n",
        "* Wrapping a Python function with `@tf.function` allows TensorFlow to:\n",
        "  * Optimize the code.\n",
        "  * Run it as a **static computation graph**.\n",
        "  * Improve performance, especially for large computations.\n",
        "\n",
        "* **How it works:**\n",
        "  * You define a normal Python function containing TensorFlow operations.\n",
        "  * Decorate it with `@tf.function`.\n",
        "  * TensorFlow traces and compiles it into an efficient graph representation.\n",
        "\n"
      ],
      "metadata": {
        "id": "ANN1_1s8Mheo"
      }
    },
    {
      "cell_type": "markdown",
      "source": [
        "**Q4. What is the purpose of the Model class in TensorFlow 2.0**\n",
        "\n",
        "Answer :-\n",
        "\n",
        "* In TensorFlow 2.0, the **Model** class (from `tf.keras.Model`) is the core class used for creating, training, evaluating, and saving deep learning models.\n",
        "\n",
        "* It provides a high-level interface that simplifies the process of defining complex architectures.\n",
        "\n",
        "* **Main purposes of the Model class:**\n",
        "  * To combine **layers** into a complete model.\n",
        "  * To define the **forward pass** (how input data flows through the model).\n",
        "  * To manage training, evaluation, and prediction methods.\n",
        "  * To save and load model configurations and weights.\n",
        "\n",
        "* **Ways to create a model:**\n",
        "  1. **Sequential API** – For models with a simple, linear stack of layers.\n",
        "  2. **Functional API** – For more complex, non-linear architectures.\n",
        "  3. **Subclassing the Model class** – For complete customization by overriding the `call()` method.\n",
        "\n"
      ],
      "metadata": {
        "id": "WlfImzpLNAhT"
      }
    },
    {
      "cell_type": "markdown",
      "source": [
        "**Q5. How do you create a neural network using TensorFlow 2.0**\n",
        "\n",
        "Answer :-\n",
        "\n",
        "* In TensorFlow 2.0, a neural network can be created easily using the **Keras API** (`tf.keras`).\n",
        "\n",
        "* The process generally involves:\n",
        "  1. Importing TensorFlow.\n",
        "  2. Defining the model architecture.\n",
        "  3. Compiling the model.\n",
        "  4. Training the model with data.\n",
        "  5. Evaluating and making predictions.\n",
        "\n",
        "* **Example:**\n",
        "  ```python\n",
        "  import tensorflow as tf\n",
        "  from tensorflow.keras import layers, models\n",
        "\n",
        "  # Step 1: Define the model\n",
        "  model = models.Sequential([\n",
        "      layers.Dense(64, activation='relu', input_shape=(100,)),\n",
        "      layers.Dense(32, activation='relu'),\n",
        "      layers.Dense(10, activation='softmax')\n",
        "  ])\n",
        "\n",
        "  # Step 2: Compile the model\n",
        "  model.compile(optimizer='adam',\n",
        "                loss='sparse_categorical_crossentropy',\n",
        "                metrics=['accuracy'])\n",
        "\n",
        "  # Step 3: Train the model\n",
        "   model.fit(x_train, y_train, epochs=10, batch_size=32)\n",
        "\n",
        "  # Step 4: Evaluate the model\n",
        "   model.evaluate(x_test, y_test)\n"
      ],
      "metadata": {
        "id": "hyNVjKKhOjSz"
      }
    },
    {
      "cell_type": "markdown",
      "source": [
        "**Q6. What is the importance of Tensor Space in TensorFlow**\n",
        "\n",
        "Answer :-\n",
        "\n",
        "* In TensorFlow, a **tensor** is the primary data structure used to represent and store data.\n",
        "\n",
        "* The **tensor space** refers to the multi-dimensional space in which tensors exist and operate.\n",
        "\n",
        "* It defines the **shape, rank, and data type** of the tensor, which are essential for performing mathematical operations.\n",
        "\n",
        "* Tensor space allows TensorFlow to:\n",
        "  * Perform computations on multi-dimensional arrays efficiently.\n",
        "  * Represent data for deep learning models such as images, text, and time-series.\n",
        "  * Optimize operations using GPUs and TPUs.\n",
        "  * Enable flexible transformations and reshaping of data.\n",
        "\n",
        "* Understanding tensor space is crucial because incorrect dimensions or incompatible shapes lead to computational errors in model building and training.\n",
        "\n",
        "* **Summary:**  \n",
        "  Tensor space in TensorFlow represents the multi-dimensional environment where tensors exist, enabling efficient mathematical operations, data representation, and optimized computation in deep learning models.\n"
      ],
      "metadata": {
        "id": "pTSFgxeiPaUh"
      }
    },
    {
      "cell_type": "markdown",
      "source": [
        "**Q7. How can TensorBoard be integrated with TensorFlow 2.0**\n",
        "\n",
        "Answer :-\n",
        "\n",
        "* **TensorBoard** is a visualization tool provided by TensorFlow to monitor and analyze the training process of machine learning models.\n",
        "\n",
        "* In TensorFlow 2.0, TensorBoard can be integrated easily to:\n",
        "  * Track metrics such as loss and accuracy during training.\n",
        "  * Visualize the computation graph of the model.\n",
        "  * Inspect weights, biases, and histograms.\n",
        "  * Compare training runs to improve performance.\n",
        "\n",
        "* Integration is done by creating a **log directory** and writing training logs using the `tf.summary` API or by specifying `TensorBoard` as a callback in Keras model training.\n",
        "\n",
        "* TensorBoard helps in:\n",
        "  * Debugging models by spotting overfitting or underfitting early.\n",
        "  * Understanding model behavior through visual insights.\n",
        "  * Comparing multiple training runs side by side.\n",
        "\n",
        "* **Summary:**  \n",
        "  TensorBoard in TensorFlow 2.0 is a powerful visualization tool that integrates seamlessly to track metrics, visualize graphs, and monitor the model’s performance during training.\n"
      ],
      "metadata": {
        "id": "PQPaUByePuAV"
      }
    },
    {
      "cell_type": "markdown",
      "source": [
        "**Q8. What is the purpose of TensorFlow Playground**\n",
        "\n",
        "Answer :-\n",
        "\n",
        "* **TensorFlow Playground** is an interactive, web-based visualization tool for experimenting with and understanding neural networks.\n",
        "\n",
        "* It allows users to:\n",
        "  * Build simple neural network models visually.\n",
        "  * Adjust parameters like the number of layers, number of neurons, activation functions, and learning rate.\n",
        "  * Observe how changes in parameters affect the model's performance in real time.\n",
        "\n",
        "* It is designed mainly for **educational purposes**, helping beginners and students learn the concepts of deep learning without writing code.\n",
        "\n",
        "* TensorFlow Playground works entirely in the browser and uses TensorFlow.js for computations.\n",
        "\n",
        "* It provides visual feedback on:\n",
        "  * Decision boundaries.\n",
        "  * Training progress.\n",
        "  * Weight updates during learning.\n",
        "\n",
        "* **Summary:**  \n",
        "  TensorFlow Playground is an easy-to-use, browser-based tool for learning and experimenting with neural networks visually, making it ideal for beginners to grasp deep learning concepts.\n"
      ],
      "metadata": {
        "id": "TVgPiuJBQuXU"
      }
    },
    {
      "cell_type": "markdown",
      "source": [
        "**Q9. What is Netron, and how is it useful for deep learning models**\n",
        "\n",
        "Answer :-\n",
        "\n",
        "* **Netron** is an open-source viewer for neural network, deep learning, and machine learning models.\n",
        "\n",
        "* It supports multiple frameworks such as TensorFlow, Keras, PyTorch, Caffe, ONNX, and MXNet.\n",
        "\n",
        "* Netron allows users to:\n",
        "  * Visualize the architecture of a trained model.\n",
        "  * Inspect layers, connections, and parameters in a graphical format.\n",
        "  * Understand the model’s structure without reading raw code or files.\n",
        "\n",
        "* It is available as:\n",
        "  * A desktop application (Windows, macOS, Linux).\n",
        "  * A web-based version for quick online viewing.\n",
        "\n",
        "* Benefits of using Netron:\n",
        "  * Helps in debugging model architecture.\n",
        "  * Useful for presenting and documenting models.\n",
        "  * Makes it easier to verify the correctness of exported models.\n",
        "\n",
        "* **Summary:**  \n",
        "  Netron is a powerful visualization tool for inspecting deep learning model architectures, making it easier to understand, debug, and share models.\n"
      ],
      "metadata": {
        "id": "DVFwhW6NRVgK"
      }
    },
    {
      "cell_type": "markdown",
      "source": [
        "**Q10. What is the difference between TensorFlow and PyTorch**\n",
        "\n",
        "Answer :-\n",
        "\n",
        "* **TensorFlow** and **PyTorch** are two of the most popular deep learning frameworks, but they differ in design philosophy and usage.\n",
        "\n",
        "* **Key differences:**\n",
        "  * **Execution Mode:**\n",
        "    * TensorFlow 2.0 uses eager execution by default but can also use graph execution for optimization.\n",
        "    * PyTorch uses eager execution by default, making it more Pythonic and intuitive for beginners.\n",
        "  \n",
        "  * **API Style:**\n",
        "    * TensorFlow integrates tightly with Keras for high-level APIs.\n",
        "    * PyTorch uses a more flexible, object-oriented approach with its `torch.nn` module.\n",
        "\n",
        "  * **Deployment:**\n",
        "    * TensorFlow has strong production deployment support via TensorFlow Serving, TensorFlow Lite, and TensorFlow.js.\n",
        "    * PyTorch offers TorchServe for deployment, but historically has been more research-focused.\n",
        "\n",
        "  * **Community and Use Cases:**\n",
        "    * TensorFlow is widely used in industry for large-scale production.\n",
        "    * PyTorch is popular in academic research for its ease of experimentation.\n",
        "\n",
        "  * **Visualization:**\n",
        "    * TensorFlow includes TensorBoard for visualizing training metrics.\n",
        "    * PyTorch can integrate with TensorBoard or other third-party visualization tools.\n",
        "\n",
        "* **Summary:**  \n",
        "  TensorFlow is known for strong deployment capabilities and wide industry adoption, while PyTorch is favored for research, flexibility, and ease of use in prototyping.\n"
      ],
      "metadata": {
        "id": "4EkuPp5YSm0g"
      }
    },
    {
      "cell_type": "markdown",
      "source": [
        "**Q11. How do you install PyTorch**\n",
        "\n",
        "Answer :-\n",
        "\n",
        "* PyTorch can be installed using Python's package manager **pip** or **conda**.\n",
        "\n",
        "* **Steps to install with pip:**\n",
        "  1. Open the command prompt (Windows) or terminal (Mac/Linux).\n",
        "  2. Run the installation command based on your system and CUDA version.  \n",
        "     Example for CPU-only:\n",
        "     ```\n",
        "     pip install torch torchvision torchaudio\n",
        "     ```\n",
        "     Example for GPU with CUDA 11.8:\n",
        "     ```\n",
        "     pip install torch torchvision torchaudio --index-url https://download.pytorch.org/whl/cu118\n",
        "     ```\n",
        "\n",
        "* **Steps to install with conda:**\n",
        "or for GPU:\n",
        "\n",
        "* After installation, verify it by running:\n",
        "```python\n",
        "import torch\n",
        "print(torch.__version__)\n",
        "print(torch.cuda.is_available())  # To check GPU availability\n",
        "\n"
      ],
      "metadata": {
        "id": "ta4S3cxtTYNQ"
      }
    },
    {
      "cell_type": "markdown",
      "source": [
        "**Q12. What is the basic structure of a PyTorch neural network**\n",
        "\n",
        "Answer :-\n",
        "\n",
        "* A PyTorch neural network is built using the **`torch.nn`** module, which provides all necessary building blocks.\n",
        "\n",
        "* **Basic structure:**\n",
        "  1. **Import required modules** – Import PyTorch and relevant submodules.\n",
        "  2. **Define the model class** – Create a class that inherits from `torch.nn.Module`.\n",
        "  3. **Initialize layers in `__init__` method** – Define network layers like `Linear`, `Conv2d`, `ReLU`, etc.\n",
        "  4. **Define the forward pass in `forward` method** – Specify how data flows through the layers.\n",
        "  5. **Instantiate the model** – Create an object of the defined class.\n",
        "  6. **Specify a loss function and optimizer** – For training the network.\n",
        "\n",
        "* The forward pass describes the sequence of operations from input to output, while the backward pass is handled automatically by PyTorch using **autograd**.\n",
        "\n",
        "* **Example:**\n",
        "  ```python\n",
        "  import torch\n",
        "  import torch.nn as nn\n",
        "  import torch.nn.functional as F\n",
        "\n",
        "  class SimpleNN(nn.Module):\n",
        "      def __init__(self):\n",
        "          super(SimpleNN, self).__init__()\n",
        "          self.fc1 = nn.Linear(10, 50)  # Input layer to hidden layer\n",
        "          self.fc2 = nn.Linear(50, 1)   # Hidden layer to output layer\n",
        "\n",
        "      def forward(self, x):\n",
        "          x = F.relu(self.fc1(x))\n",
        "          x = self.fc2(x)\n",
        "          return x\n",
        "\n",
        "  # Create model instance\n",
        "  model = SimpleNN()\n",
        "  print(model)\n"
      ],
      "metadata": {
        "id": "PNh1bASXVkQo"
      }
    },
    {
      "cell_type": "markdown",
      "source": [
        "**Q13. What is the significance of tensors in PyTorch**\n",
        "\n",
        "Answer :-\n",
        "\n",
        "* In PyTorch, a **tensor** is the core data structure used to store and manipulate numerical data.\n",
        "\n",
        "* Tensors are similar to NumPy arrays but have additional capabilities such as GPU acceleration.\n",
        "\n",
        "* **Key significance of tensors in PyTorch:**\n",
        "  * They represent multi-dimensional arrays for storing data such as images, text, and numerical values.\n",
        "  * They enable fast mathematical operations using PyTorch’s optimized backend.\n",
        "  * They support **automatic differentiation** through PyTorch’s `autograd` system, making them essential for training neural networks.\n",
        "  * They can be easily moved between CPU and GPU for faster computation.\n",
        "  * They integrate seamlessly with PyTorch’s deep learning modules (`torch.nn`, `torch.optim`).\n",
        "\n",
        "* Tensors come in different shapes (rank), data types (dtype), and can store both scalar and vectorized data.\n",
        "\n",
        "* **Summary:**  \n",
        "  Tensors in PyTorch are multi-dimensional arrays with GPU acceleration and automatic differentiation support, making them fundamental for building and training deep learning models.\n"
      ],
      "metadata": {
        "id": "KZum05KTXcbK"
      }
    },
    {
      "cell_type": "markdown",
      "source": [
        "**Q14. What is the difference between torch.Tensor and torch.cuda.Tensor in PyTorch**\n",
        "\n",
        "Answer :-\n",
        "\n",
        "* **torch.Tensor**:\n",
        "  * Represents a multi-dimensional array stored and processed on the **CPU**.\n",
        "  * Suitable for computations that do not require GPU acceleration.\n",
        "  * Default tensor type when creating tensors without specifying a device.\n",
        "\n",
        "* **torch.cuda.Tensor**:\n",
        "  * Represents a tensor stored and processed on the **GPU** using CUDA.\n",
        "  * Enables faster computation for large datasets and complex neural networks by leveraging GPU parallelism.\n",
        "  * Requires CUDA-compatible hardware and proper PyTorch GPU installation.\n",
        "\n",
        "* **Key differences:**\n",
        "  * **Device Location** – `torch.Tensor` is on CPU, while `torch.cuda.Tensor` is on GPU.\n",
        "  * **Performance** – GPU tensors (`torch.cuda.Tensor`) can be significantly faster for deep learning tasks.\n",
        "  * **Creation** – CPU tensor: `torch.tensor([1, 2, 3])`  \n",
        "    GPU tensor: `torch.tensor([1, 2, 3], device='cuda')` or `.cuda()` method.\n",
        "\n",
        "* **Summary:**  \n",
        "  `torch.Tensor` is stored on the CPU, while `torch.cuda.Tensor` is stored on the GPU for faster computations, making GPU tensors ideal for training deep learning models on large datasets.\n"
      ],
      "metadata": {
        "id": "XStIypG2YFmq"
      }
    },
    {
      "cell_type": "markdown",
      "source": [
        "**Q15. What is the purpose of the torch.optim module in PyTorch**\n",
        "\n",
        "Answer :-\n",
        "\n",
        "* The **`torch.optim`** module in PyTorch provides a collection of optimization algorithms for training neural networks.\n",
        "\n",
        "* **Purpose:**\n",
        "  * To update the parameters (weights and biases) of a model based on the computed gradients.\n",
        "  * To minimize the loss function during training.\n",
        "  * To control the learning process through parameters like learning rate, momentum, etc.\n",
        "\n",
        "* **Common optimizers in `torch.optim`:**\n",
        "  * **SGD (Stochastic Gradient Descent)** – Basic optimization method.\n",
        "  * **Adam (Adaptive Moment Estimation)** – Popular optimizer combining momentum and adaptive learning rates.\n",
        "  * **RMSprop** – Optimizer that adapts the learning rate for each parameter.\n",
        "\n",
        "* **How it works:**\n",
        "  1. Compute gradients via backpropagation.\n",
        "  2. Use the optimizer to adjust parameters according to the gradients and optimization algorithm.\n",
        "  3. Repeat the process for each training step until convergence.\n",
        "\n",
        "* **Summary:**  \n",
        "  The `torch.optim` module is responsible for updating model parameters efficiently using various optimization algorithms, helping to minimize loss and improve model performance during training.\n"
      ],
      "metadata": {
        "id": "AKEDrmlEYY3j"
      }
    },
    {
      "cell_type": "markdown",
      "source": [
        "**Q16. What are some common activation functions used in neural networks**\n",
        "\n",
        "Answer :-\n",
        "\n",
        "* **Activation functions** introduce non-linearity into neural networks, enabling them to learn complex patterns.\n",
        "\n",
        "* **Common activation functions:**\n",
        "  * **Sigmoid Function:**\n",
        "    * Output range: (0, 1)\n",
        "    * Often used in binary classification problems.\n",
        "  \n",
        "  * **Tanh (Hyperbolic Tangent) Function:**\n",
        "    * Output range: (-1, 1)\n",
        "    * Zero-centered, better for hidden layers compared to sigmoid.\n",
        "\n",
        "  * **ReLU (Rectified Linear Unit):**\n",
        "    * Output: `max(0, x)`\n",
        "    * Most popular activation for hidden layers due to simplicity and efficiency.\n",
        "\n",
        "  * **Leaky ReLU:**\n",
        "    * Similar to ReLU but allows a small, non-zero gradient for negative inputs.\n",
        "\n",
        "  * **Softmax Function:**\n",
        "    * Converts raw scores into probabilities.\n",
        "    * Commonly used in the output layer for multi-class classification.\n",
        "\n",
        "* The choice of activation function depends on the type of layer, task, and data.\n",
        "\n",
        "* **Summary:**  \n",
        "  Common activation functions like Sigmoid, Tanh, ReLU, Leaky ReLU, and Softmax are essential for introducing non-linearity, enabling neural networks to model complex relationships in data.\n"
      ],
      "metadata": {
        "id": "Cpo7FU0TZWCC"
      }
    },
    {
      "cell_type": "markdown",
      "source": [
        "**Q17. What is the difference between torch.nn.Module and torch.nn.Sequential in PyTorch**\n",
        "\n",
        "Answer :-\n",
        "\n",
        "* **torch.nn.Module**:\n",
        "  * The base class for all neural network models in PyTorch.\n",
        "  * Allows creating complex and custom architectures.\n",
        "  * Requires defining:\n",
        "    * `__init__` method – to initialize layers.\n",
        "    * `forward` method – to define how data flows through the model.\n",
        "  * Suitable for models with conditional logic or multiple data flows.\n",
        "\n",
        "* **torch.nn.Sequential**:\n",
        "  * A container module that chains layers in a sequence.\n",
        "  * No need to define a `forward` method manually; the data flows through layers in the order they are added.\n",
        "  * Best for simple feed-forward networks with a linear stack of layers.\n",
        "  * Less flexible than `torch.nn.Module`.\n",
        "\n",
        "* **Key differences:**\n",
        "  * **Flexibility** – `nn.Module` is more flexible; `nn.Sequential` is simpler but limited.\n",
        "  * **Use case** – Use `nn.Module` for complex models, `nn.Sequential` for straightforward architectures.\n",
        "  * **Code structure** – `nn.Module` requires explicit `forward` method, `nn.Sequential` does not.\n",
        "\n",
        "* **Summary:**  \n",
        "  `torch.nn.Module` is the base class for building both simple and complex custom models, while `torch.nn.Sequential` is a simpler container for stacking layers in order without writing a forward method.\n"
      ],
      "metadata": {
        "id": "fOc-2xqpZwUQ"
      }
    },
    {
      "cell_type": "markdown",
      "source": [
        "**Q18. How can you monitor training progress in TensorFlow 2.0**\n",
        "\n",
        "Answer :-\n",
        "\n",
        "* In TensorFlow 2.0, training progress can be monitored using several methods, mainly through **callbacks** and **visualization tools**.\n",
        "\n",
        "* **Common ways to monitor progress:**\n",
        "  * **TensorBoard:**\n",
        "    * Visualizes loss, accuracy, and other metrics during training.\n",
        "    * Shows graphs, histograms, and model performance comparisons.\n",
        "  \n",
        "  * **Keras Callbacks:**\n",
        "    * `tf.keras.callbacks.EarlyStopping` – Stops training when performance stops improving.\n",
        "    * `tf.keras.callbacks.ModelCheckpoint` – Saves the model during training.\n",
        "    * `tf.keras.callbacks.ReduceLROnPlateau` – Adjusts learning rate based on progress.\n",
        "\n",
        "  * **Verbose Output in `model.fit()`:**\n",
        "    * Shows loss and accuracy values per epoch or batch.\n",
        "\n",
        "\n",
        "  * **Custom Callbacks:**\n",
        "    * Allow creating personalized monitoring logic, like printing metrics after each batch.\n",
        "\n",
        "* Monitoring helps in identifying overfitting, underfitting, and optimizing training performance.\n",
        "\n",
        "* **Summary:**  \n",
        "  Training progress in TensorFlow 2.0 can be monitored using TensorBoard, built-in Keras callbacks, and verbose logs, enabling better insights and control over the model training process.\n"
      ],
      "metadata": {
        "id": "dfU4PccRackf"
      }
    },
    {
      "cell_type": "markdown",
      "source": [
        "**Q19. How does the Keras API fit into TensorFlow 2.0**\n",
        "\n",
        "Answer :-\n",
        "\n",
        "* In TensorFlow 2.0, **Keras** is fully integrated as the official high-level API for building and training deep learning models.\n",
        "\n",
        "* **Role of Keras in TensorFlow 2.0:**\n",
        "  * Provides a simple, user-friendly interface for model creation.\n",
        "  * Supports multiple ways of building models:\n",
        "    * **Sequential API** – For models with a linear stack of layers.\n",
        "    * **Functional API** – For complex architectures with multiple inputs and outputs.\n",
        "    * **Model subclassing** – For complete customization.\n",
        "  * Handles compilation, training, evaluation, and prediction in an intuitive manner.\n",
        "\n",
        "* Keras works seamlessly with TensorFlow features like:\n",
        "  * Eager execution.\n",
        "  * TensorBoard integration.\n",
        "  * Distribution strategies for multi-GPU and TPU training.\n",
        "\n",
        "* The integration eliminates the need to install standalone Keras, as it is available through `tf.keras`.\n",
        "\n",
        "* **Summary:**  \n",
        "  In TensorFlow 2.0, Keras acts as the high-level API that simplifies model building and training, providing ease of use while retaining the flexibility and power of TensorFlow’s backend.\n"
      ],
      "metadata": {
        "id": "zVnbP7QpfznY"
      }
    },
    {
      "cell_type": "markdown",
      "source": [
        "**Q20. What is an example of a deep learning project that can be implemented using TensorFlow 2.0**\n",
        "\n",
        "Answer :-\n",
        "\n",
        "* One example of a deep learning project using TensorFlow 2.0 is **Image Classification**.\n",
        "\n",
        "* **Description:**\n",
        "  * The goal is to classify images into predefined categories (e.g., cats vs. dogs, types of flowers).\n",
        "  * A convolutional neural network (CNN) is trained on labeled image datasets.\n",
        "  * TensorFlow 2.0’s Keras API makes it easy to define, compile, and train the CNN.\n",
        "\n",
        "* **Steps involved:**\n",
        "  1. Load and preprocess the image dataset.\n",
        "  2. Define the CNN architecture using `tf.keras`.\n",
        "  3. Compile the model with an optimizer, loss function, and metrics.\n",
        "  4. Train the model while monitoring accuracy and loss.\n",
        "  5. Evaluate the model and make predictions on new images.\n",
        "\n",
        "* This project can use datasets such as **CIFAR-10**, **MNIST**, or custom image datasets.\n",
        "\n",
        "* **Applications:**\n",
        "  * Medical image analysis.\n",
        "  * Object detection in security systems.\n",
        "  * Automated sorting in manufacturing.\n",
        "\n",
        "* **Summary:**  \n",
        "  Image classification is a popular deep learning project that can be implemented in TensorFlow 2.0, involving dataset preparation, CNN model building, training, and prediction.\n"
      ],
      "metadata": {
        "id": "cW6p5dYagB0K"
      }
    },
    {
      "cell_type": "markdown",
      "source": [
        "**Q21. What is the main advantage of using pre-trained models in TensorFlow and PyTorch**\n",
        "\n",
        "Answer :-\n",
        "\n",
        "* **Pre-trained models** are models that have been trained on large datasets and can be reused for similar tasks.\n",
        "\n",
        "* **Main advantages:**\n",
        "  * **Saves time and resources** – No need to train from scratch, as the model has already learned useful features.\n",
        "  * **Better performance with less data** – Even with a smaller dataset, pre-trained models can achieve high accuracy due to prior knowledge.\n",
        "  * **Reduces computational cost** – Eliminates the need for long training times and expensive hardware usage.\n",
        "  * **Transfer learning** – The knowledge gained from one task can be applied to another related task.\n",
        "  * **Proven architectures** – Pre-trained models are usually based on well-tested and optimized network designs.\n",
        "\n",
        "* Both TensorFlow and PyTorch provide model libraries (e.g., TensorFlow Hub, PyTorch Hub) containing various pre-trained models for tasks like image classification, object detection, and natural language processing.\n",
        "\n",
        "* **Summary:**  \n",
        "  The main advantage of using pre-trained models is that they significantly reduce training time, computational cost, and data requirements while improving performance through transfer learning.\n"
      ],
      "metadata": {
        "id": "3MwlIwPukMSG"
      }
    },
    {
      "cell_type": "markdown",
      "source": [
        "# Practical"
      ],
      "metadata": {
        "id": "ceFhry74kQyG"
      }
    },
    {
      "cell_type": "markdown",
      "source": [
        " **Q1.How do you install and verify that TensorFlow 2.0 was installed successfully?**"
      ],
      "metadata": {
        "id": "sk0Pz_EDkg9q"
      }
    },
    {
      "cell_type": "code",
      "source": [
        "# Now install TensorFlow 2.0.0\n",
        "!pip install tensorflow==2.0.0\n",
        "\n",
        "#TensorFlow 2.0.0 was released in 2019 and only supports Python 3.5–3.7.\n",
        "#Colab’s default runtime now uses Python 3.10 or newer, which is incompatible."
      ],
      "metadata": {
        "id": "PUEeslZKcyG3",
        "colab": {
          "base_uri": "https://localhost:8080/"
        },
        "outputId": "7d713f8b-8a38-464f-ac93-cb9e33aa1b53"
      },
      "execution_count": 1,
      "outputs": [
        {
          "output_type": "stream",
          "name": "stdout",
          "text": [
            "\u001b[31mERROR: Could not find a version that satisfies the requirement tensorflow==2.0.0 (from versions: 2.12.0rc0, 2.12.0rc1, 2.12.0, 2.12.1, 2.13.0rc0, 2.13.0rc1, 2.13.0rc2, 2.13.0, 2.13.1, 2.14.0rc0, 2.14.0rc1, 2.14.0, 2.14.1, 2.15.0rc0, 2.15.0rc1, 2.15.0, 2.15.0.post1, 2.15.1, 2.16.0rc0, 2.16.1, 2.16.2, 2.17.0rc0, 2.17.0rc1, 2.17.0, 2.17.1, 2.18.0rc0, 2.18.0rc1, 2.18.0rc2, 2.18.0, 2.18.1, 2.19.0rc0, 2.19.0, 2.20.0rc0)\u001b[0m\u001b[31m\n",
            "\u001b[0m\u001b[31mERROR: No matching distribution found for tensorflow==2.0.0\u001b[0m\u001b[31m\n",
            "\u001b[0m"
          ]
        }
      ]
    },
    {
      "cell_type": "markdown",
      "source": [
        "# Code tested on TensorFlow 2.19, which is part of the TensorFlow 2.x series. This is the latest stable release, and all examples are fully compatible with TensorFlow 2.0 syntax."
      ],
      "metadata": {
        "id": "oh0pgoqO1vbn"
      }
    },
    {
      "cell_type": "code",
      "source": [
        "!pip install tensorflow==2.19.0"
      ],
      "metadata": {
        "colab": {
          "base_uri": "https://localhost:8080/"
        },
        "id": "e1tcTwki1Mfl",
        "outputId": "fec244dd-8758-4f07-9dd6-444d969ff7d6"
      },
      "execution_count": 5,
      "outputs": [
        {
          "output_type": "stream",
          "name": "stdout",
          "text": [
            "Requirement already satisfied: tensorflow==2.19.0 in /usr/local/lib/python3.11/dist-packages (2.19.0)\n",
            "Requirement already satisfied: absl-py>=1.0.0 in /usr/local/lib/python3.11/dist-packages (from tensorflow==2.19.0) (1.4.0)\n",
            "Requirement already satisfied: astunparse>=1.6.0 in /usr/local/lib/python3.11/dist-packages (from tensorflow==2.19.0) (1.6.3)\n",
            "Requirement already satisfied: flatbuffers>=24.3.25 in /usr/local/lib/python3.11/dist-packages (from tensorflow==2.19.0) (25.2.10)\n",
            "Requirement already satisfied: gast!=0.5.0,!=0.5.1,!=0.5.2,>=0.2.1 in /usr/local/lib/python3.11/dist-packages (from tensorflow==2.19.0) (0.6.0)\n",
            "Requirement already satisfied: google-pasta>=0.1.1 in /usr/local/lib/python3.11/dist-packages (from tensorflow==2.19.0) (0.2.0)\n",
            "Requirement already satisfied: libclang>=13.0.0 in /usr/local/lib/python3.11/dist-packages (from tensorflow==2.19.0) (18.1.1)\n",
            "Requirement already satisfied: opt-einsum>=2.3.2 in /usr/local/lib/python3.11/dist-packages (from tensorflow==2.19.0) (3.4.0)\n",
            "Requirement already satisfied: packaging in /usr/local/lib/python3.11/dist-packages (from tensorflow==2.19.0) (25.0)\n",
            "Requirement already satisfied: protobuf!=4.21.0,!=4.21.1,!=4.21.2,!=4.21.3,!=4.21.4,!=4.21.5,<6.0.0dev,>=3.20.3 in /usr/local/lib/python3.11/dist-packages (from tensorflow==2.19.0) (5.29.5)\n",
            "Requirement already satisfied: requests<3,>=2.21.0 in /usr/local/lib/python3.11/dist-packages (from tensorflow==2.19.0) (2.32.3)\n",
            "Requirement already satisfied: setuptools in /usr/local/lib/python3.11/dist-packages (from tensorflow==2.19.0) (75.2.0)\n",
            "Requirement already satisfied: six>=1.12.0 in /usr/local/lib/python3.11/dist-packages (from tensorflow==2.19.0) (1.17.0)\n",
            "Requirement already satisfied: termcolor>=1.1.0 in /usr/local/lib/python3.11/dist-packages (from tensorflow==2.19.0) (3.1.0)\n",
            "Requirement already satisfied: typing-extensions>=3.6.6 in /usr/local/lib/python3.11/dist-packages (from tensorflow==2.19.0) (4.14.1)\n",
            "Requirement already satisfied: wrapt>=1.11.0 in /usr/local/lib/python3.11/dist-packages (from tensorflow==2.19.0) (1.17.2)\n",
            "Requirement already satisfied: grpcio<2.0,>=1.24.3 in /usr/local/lib/python3.11/dist-packages (from tensorflow==2.19.0) (1.74.0)\n",
            "Requirement already satisfied: tensorboard~=2.19.0 in /usr/local/lib/python3.11/dist-packages (from tensorflow==2.19.0) (2.19.0)\n",
            "Requirement already satisfied: keras>=3.5.0 in /usr/local/lib/python3.11/dist-packages (from tensorflow==2.19.0) (3.10.0)\n",
            "Requirement already satisfied: numpy<2.2.0,>=1.26.0 in /usr/local/lib/python3.11/dist-packages (from tensorflow==2.19.0) (2.0.2)\n",
            "Requirement already satisfied: h5py>=3.11.0 in /usr/local/lib/python3.11/dist-packages (from tensorflow==2.19.0) (3.14.0)\n",
            "Requirement already satisfied: ml-dtypes<1.0.0,>=0.5.1 in /usr/local/lib/python3.11/dist-packages (from tensorflow==2.19.0) (0.5.3)\n",
            "Requirement already satisfied: tensorflow-io-gcs-filesystem>=0.23.1 in /usr/local/lib/python3.11/dist-packages (from tensorflow==2.19.0) (0.37.1)\n",
            "Requirement already satisfied: wheel<1.0,>=0.23.0 in /usr/local/lib/python3.11/dist-packages (from astunparse>=1.6.0->tensorflow==2.19.0) (0.45.1)\n",
            "Requirement already satisfied: rich in /usr/local/lib/python3.11/dist-packages (from keras>=3.5.0->tensorflow==2.19.0) (13.9.4)\n",
            "Requirement already satisfied: namex in /usr/local/lib/python3.11/dist-packages (from keras>=3.5.0->tensorflow==2.19.0) (0.1.0)\n",
            "Requirement already satisfied: optree in /usr/local/lib/python3.11/dist-packages (from keras>=3.5.0->tensorflow==2.19.0) (0.17.0)\n",
            "Requirement already satisfied: charset-normalizer<4,>=2 in /usr/local/lib/python3.11/dist-packages (from requests<3,>=2.21.0->tensorflow==2.19.0) (3.4.2)\n",
            "Requirement already satisfied: idna<4,>=2.5 in /usr/local/lib/python3.11/dist-packages (from requests<3,>=2.21.0->tensorflow==2.19.0) (3.10)\n",
            "Requirement already satisfied: urllib3<3,>=1.21.1 in /usr/local/lib/python3.11/dist-packages (from requests<3,>=2.21.0->tensorflow==2.19.0) (2.5.0)\n",
            "Requirement already satisfied: certifi>=2017.4.17 in /usr/local/lib/python3.11/dist-packages (from requests<3,>=2.21.0->tensorflow==2.19.0) (2025.8.3)\n",
            "Requirement already satisfied: markdown>=2.6.8 in /usr/local/lib/python3.11/dist-packages (from tensorboard~=2.19.0->tensorflow==2.19.0) (3.8.2)\n",
            "Requirement already satisfied: tensorboard-data-server<0.8.0,>=0.7.0 in /usr/local/lib/python3.11/dist-packages (from tensorboard~=2.19.0->tensorflow==2.19.0) (0.7.2)\n",
            "Requirement already satisfied: werkzeug>=1.0.1 in /usr/local/lib/python3.11/dist-packages (from tensorboard~=2.19.0->tensorflow==2.19.0) (3.1.3)\n",
            "Requirement already satisfied: MarkupSafe>=2.1.1 in /usr/local/lib/python3.11/dist-packages (from werkzeug>=1.0.1->tensorboard~=2.19.0->tensorflow==2.19.0) (3.0.2)\n",
            "Requirement already satisfied: markdown-it-py>=2.2.0 in /usr/local/lib/python3.11/dist-packages (from rich->keras>=3.5.0->tensorflow==2.19.0) (3.0.0)\n",
            "Requirement already satisfied: pygments<3.0.0,>=2.13.0 in /usr/local/lib/python3.11/dist-packages (from rich->keras>=3.5.0->tensorflow==2.19.0) (2.19.2)\n",
            "Requirement already satisfied: mdurl~=0.1 in /usr/local/lib/python3.11/dist-packages (from markdown-it-py>=2.2.0->rich->keras>=3.5.0->tensorflow==2.19.0) (0.1.2)\n"
          ]
        }
      ]
    },
    {
      "cell_type": "code",
      "source": [
        "import tensorflow as tf\n",
        "print(\"TensorFlow:\", tf.__version__)"
      ],
      "metadata": {
        "colab": {
          "base_uri": "https://localhost:8080/"
        },
        "outputId": "abd4559d-31d3-420d-be93-f6f97b3ff0ac",
        "id": "NqKaFRjC1R74"
      },
      "execution_count": 6,
      "outputs": [
        {
          "output_type": "stream",
          "name": "stdout",
          "text": [
            "TensorFlow: 2.19.0\n"
          ]
        }
      ]
    },
    {
      "cell_type": "markdown",
      "source": [
        "**Q2. How can you define a simple function in TensorFlow 2.0 to perform addition?**"
      ],
      "metadata": {
        "id": "_uDN2yQ-2caU"
      }
    },
    {
      "cell_type": "code",
      "source": [
        "import tensorflow as tf\n",
        "\n",
        "# Define a TensorFlow function for addition\n",
        "@tf.function\n",
        "def add_numbers(a, b):\n",
        "    return tf.add(a, b)\n",
        "\n",
        "# Test the function\n",
        "x = tf.constant(5)\n",
        "y = tf.constant(3)\n",
        "result = add_numbers(x, y)\n",
        "\n",
        "print(\"Sum:\", result.numpy())\n"
      ],
      "metadata": {
        "colab": {
          "base_uri": "https://localhost:8080/"
        },
        "id": "b0cA1c7M07AK",
        "outputId": "fc4ee6bb-0c78-4aa5-d07e-4f5c83b01da4"
      },
      "execution_count": 7,
      "outputs": [
        {
          "output_type": "stream",
          "name": "stdout",
          "text": [
            "Sum: 8\n"
          ]
        }
      ]
    },
    {
      "cell_type": "markdown",
      "source": [
        "**Q3. How can you create a simple neural network in TensorFlow 2.0 with one hidden layer?**"
      ],
      "metadata": {
        "id": "BKoawz8g2wNd"
      }
    },
    {
      "cell_type": "code",
      "source": [
        "import tensorflow as tf\n",
        "from tensorflow.keras import Sequential\n",
        "from tensorflow.keras.layers import Dense\n",
        "\n",
        "# Define the model\n",
        "model = Sequential([\n",
        "    Dense(8, activation='relu', input_shape=(4,)),  # Hidden layer with 8 neurons\n",
        "    Dense(3, activation='softmax')                   # Output layer with 3 classes\n",
        "])\n",
        "\n",
        "# Compile the model\n",
        "model.compile(optimizer='adam',\n",
        "              loss='sparse_categorical_crossentropy',\n",
        "              metrics=['accuracy'])\n",
        "\n",
        "# Display model summary\n",
        "model.summary()\n"
      ],
      "metadata": {
        "colab": {
          "base_uri": "https://localhost:8080/",
          "height": 248
        },
        "id": "8UCnM_dn2x5m",
        "outputId": "77ae5866-dd18-454d-e449-7a22d1f9229c"
      },
      "execution_count": 8,
      "outputs": [
        {
          "output_type": "stream",
          "name": "stderr",
          "text": [
            "/usr/local/lib/python3.11/dist-packages/keras/src/layers/core/dense.py:93: UserWarning: Do not pass an `input_shape`/`input_dim` argument to a layer. When using Sequential models, prefer using an `Input(shape)` object as the first layer in the model instead.\n",
            "  super().__init__(activity_regularizer=activity_regularizer, **kwargs)\n"
          ]
        },
        {
          "output_type": "display_data",
          "data": {
            "text/plain": [
              "\u001b[1mModel: \"sequential\"\u001b[0m\n"
            ],
            "text/html": [
              "<pre style=\"white-space:pre;overflow-x:auto;line-height:normal;font-family:Menlo,'DejaVu Sans Mono',consolas,'Courier New',monospace\"><span style=\"font-weight: bold\">Model: \"sequential\"</span>\n",
              "</pre>\n"
            ]
          },
          "metadata": {}
        },
        {
          "output_type": "display_data",
          "data": {
            "text/plain": [
              "┏━━━━━━━━━━━━━━━━━━━━━━━━━━━━━━━━━┳━━━━━━━━━━━━━━━━━━━━━━━━┳━━━━━━━━━━━━━━━┓\n",
              "┃\u001b[1m \u001b[0m\u001b[1mLayer (type)                   \u001b[0m\u001b[1m \u001b[0m┃\u001b[1m \u001b[0m\u001b[1mOutput Shape          \u001b[0m\u001b[1m \u001b[0m┃\u001b[1m \u001b[0m\u001b[1m      Param #\u001b[0m\u001b[1m \u001b[0m┃\n",
              "┡━━━━━━━━━━━━━━━━━━━━━━━━━━━━━━━━━╇━━━━━━━━━━━━━━━━━━━━━━━━╇━━━━━━━━━━━━━━━┩\n",
              "│ dense (\u001b[38;5;33mDense\u001b[0m)                   │ (\u001b[38;5;45mNone\u001b[0m, \u001b[38;5;34m8\u001b[0m)              │            \u001b[38;5;34m40\u001b[0m │\n",
              "├─────────────────────────────────┼────────────────────────┼───────────────┤\n",
              "│ dense_1 (\u001b[38;5;33mDense\u001b[0m)                 │ (\u001b[38;5;45mNone\u001b[0m, \u001b[38;5;34m3\u001b[0m)              │            \u001b[38;5;34m27\u001b[0m │\n",
              "└─────────────────────────────────┴────────────────────────┴───────────────┘\n"
            ],
            "text/html": [
              "<pre style=\"white-space:pre;overflow-x:auto;line-height:normal;font-family:Menlo,'DejaVu Sans Mono',consolas,'Courier New',monospace\">┏━━━━━━━━━━━━━━━━━━━━━━━━━━━━━━━━━┳━━━━━━━━━━━━━━━━━━━━━━━━┳━━━━━━━━━━━━━━━┓\n",
              "┃<span style=\"font-weight: bold\"> Layer (type)                    </span>┃<span style=\"font-weight: bold\"> Output Shape           </span>┃<span style=\"font-weight: bold\">       Param # </span>┃\n",
              "┡━━━━━━━━━━━━━━━━━━━━━━━━━━━━━━━━━╇━━━━━━━━━━━━━━━━━━━━━━━━╇━━━━━━━━━━━━━━━┩\n",
              "│ dense (<span style=\"color: #0087ff; text-decoration-color: #0087ff\">Dense</span>)                   │ (<span style=\"color: #00d7ff; text-decoration-color: #00d7ff\">None</span>, <span style=\"color: #00af00; text-decoration-color: #00af00\">8</span>)              │            <span style=\"color: #00af00; text-decoration-color: #00af00\">40</span> │\n",
              "├─────────────────────────────────┼────────────────────────┼───────────────┤\n",
              "│ dense_1 (<span style=\"color: #0087ff; text-decoration-color: #0087ff\">Dense</span>)                 │ (<span style=\"color: #00d7ff; text-decoration-color: #00d7ff\">None</span>, <span style=\"color: #00af00; text-decoration-color: #00af00\">3</span>)              │            <span style=\"color: #00af00; text-decoration-color: #00af00\">27</span> │\n",
              "└─────────────────────────────────┴────────────────────────┴───────────────┘\n",
              "</pre>\n"
            ]
          },
          "metadata": {}
        },
        {
          "output_type": "display_data",
          "data": {
            "text/plain": [
              "\u001b[1m Total params: \u001b[0m\u001b[38;5;34m67\u001b[0m (268.00 B)\n"
            ],
            "text/html": [
              "<pre style=\"white-space:pre;overflow-x:auto;line-height:normal;font-family:Menlo,'DejaVu Sans Mono',consolas,'Courier New',monospace\"><span style=\"font-weight: bold\"> Total params: </span><span style=\"color: #00af00; text-decoration-color: #00af00\">67</span> (268.00 B)\n",
              "</pre>\n"
            ]
          },
          "metadata": {}
        },
        {
          "output_type": "display_data",
          "data": {
            "text/plain": [
              "\u001b[1m Trainable params: \u001b[0m\u001b[38;5;34m67\u001b[0m (268.00 B)\n"
            ],
            "text/html": [
              "<pre style=\"white-space:pre;overflow-x:auto;line-height:normal;font-family:Menlo,'DejaVu Sans Mono',consolas,'Courier New',monospace\"><span style=\"font-weight: bold\"> Trainable params: </span><span style=\"color: #00af00; text-decoration-color: #00af00\">67</span> (268.00 B)\n",
              "</pre>\n"
            ]
          },
          "metadata": {}
        },
        {
          "output_type": "display_data",
          "data": {
            "text/plain": [
              "\u001b[1m Non-trainable params: \u001b[0m\u001b[38;5;34m0\u001b[0m (0.00 B)\n"
            ],
            "text/html": [
              "<pre style=\"white-space:pre;overflow-x:auto;line-height:normal;font-family:Menlo,'DejaVu Sans Mono',consolas,'Courier New',monospace\"><span style=\"font-weight: bold\"> Non-trainable params: </span><span style=\"color: #00af00; text-decoration-color: #00af00\">0</span> (0.00 B)\n",
              "</pre>\n"
            ]
          },
          "metadata": {}
        }
      ]
    },
    {
      "cell_type": "markdown",
      "source": [
        "**Q4. How can you visualize the training progress using TensorFlow and Matplotlib?**"
      ],
      "metadata": {
        "id": "gkIB8WKh439R"
      }
    },
    {
      "cell_type": "code",
      "source": [
        "import tensorflow as tf\n",
        "from tensorflow.keras import Sequential\n",
        "from tensorflow.keras.layers import Dense\n",
        "import matplotlib.pyplot as plt\n",
        "import numpy as np\n",
        "\n",
        "# Generate dummy training data\n",
        "x_train = np.random.rand(100, 4)\n",
        "y_train = np.random.randint(0, 3, size=(100,))\n",
        "\n",
        "# Define model\n",
        "model = Sequential([\n",
        "    Dense(8, activation='relu', input_shape=(4,)),\n",
        "    Dense(3, activation='softmax')\n",
        "])\n",
        "\n",
        "# Compile model\n",
        "model.compile(optimizer='adam',\n",
        "              loss='sparse_categorical_crossentropy',\n",
        "              metrics=['accuracy'])\n",
        "\n",
        "# Train model and store history\n",
        "history = model.fit(x_train, y_train, epochs=10, verbose=0)\n",
        "\n",
        "# Plot training loss and accuracy\n",
        "plt.plot(history.history['loss'], label='Loss')\n",
        "plt.plot(history.history['accuracy'], label='Accuracy')\n",
        "plt.xlabel('Epoch')\n",
        "plt.ylabel('Value')\n",
        "plt.title('Training Progress')\n",
        "plt.legend()\n",
        "plt.show()\n"
      ],
      "metadata": {
        "colab": {
          "base_uri": "https://localhost:8080/",
          "height": 472
        },
        "id": "w8tgy8j_22CB",
        "outputId": "4e2e8ec4-25bd-472d-98d5-32556c421143"
      },
      "execution_count": 9,
      "outputs": [
        {
          "output_type": "display_data",
          "data": {
            "text/plain": [
              "<Figure size 640x480 with 1 Axes>"
            ],
            "image/png": "[encoded data removed]"
          },
          "metadata": {}
        }
      ]
    },
    {
      "cell_type": "markdown",
      "source": [
        "**Q5. How do you install PyTorch and verify the PyTorch installation?**"
      ],
      "metadata": {
        "id": "IRU6om018Utw"
      }
    },
    {
      "cell_type": "code",
      "source": [
        "# Install PyTorch (CPU version for Colab; if you need GPU, change the command from pytorch.org)\n",
        "!pip install torch torchvision torchaudio --index-url https://download.pytorch.org/whl/cpu\n",
        "\n",
        "\n"
      ],
      "metadata": {
        "colab": {
          "base_uri": "https://localhost:8080/"
        },
        "id": "Odr-FUmv8X5W",
        "outputId": "dd22b26a-9008-4769-ff0e-33d91d57ef11"
      },
      "execution_count": 11,
      "outputs": [
        {
          "output_type": "stream",
          "name": "stdout",
          "text": [
            "Looking in indexes: https://download.pytorch.org/whl/cpu\n",
            "Requirement already satisfied: torch in /usr/local/lib/python3.11/dist-packages (2.6.0+cpu)\n",
            "Requirement already satisfied: torchvision in /usr/local/lib/python3.11/dist-packages (0.21.0+cu124)\n",
            "Requirement already satisfied: torchaudio in /usr/local/lib/python3.11/dist-packages (2.6.0+cu124)\n",
            "Requirement already satisfied: filelock in /usr/local/lib/python3.11/dist-packages (from torch) (3.18.0)\n",
            "Requirement already satisfied: typing-extensions>=4.10.0 in /usr/local/lib/python3.11/dist-packages (from torch) (4.14.1)\n",
            "Requirement already satisfied: networkx in /usr/local/lib/python3.11/dist-packages (from torch) (3.5)\n",
            "Requirement already satisfied: jinja2 in /usr/local/lib/python3.11/dist-packages (from torch) (3.1.6)\n",
            "Requirement already satisfied: fsspec in /usr/local/lib/python3.11/dist-packages (from torch) (2025.3.0)\n",
            "Requirement already satisfied: sympy==1.13.1 in /usr/local/lib/python3.11/dist-packages (from torch) (1.13.1)\n",
            "Requirement already satisfied: mpmath<1.4,>=1.1.0 in /usr/local/lib/python3.11/dist-packages (from sympy==1.13.1->torch) (1.3.0)\n",
            "Requirement already satisfied: numpy in /usr/local/lib/python3.11/dist-packages (from torchvision) (2.0.2)\n",
            "Requirement already satisfied: pillow!=8.3.*,>=5.3.0 in /usr/local/lib/python3.11/dist-packages (from torchvision) (11.3.0)\n",
            "Requirement already satisfied: MarkupSafe>=2.0 in /usr/local/lib/python3.11/dist-packages (from jinja2->torch) (3.0.2)\n"
          ]
        }
      ]
    },
    {
      "cell_type": "code",
      "source": [
        "# Verify installation\n",
        "import torch\n",
        "\n",
        "print(\"PyTorch version:\", torch.__version__)\n",
        "print(\"Is CUDA available?\", torch.cuda.is_available()) #If it returns False, PyTorch will run only on the CPU."
      ],
      "metadata": {
        "colab": {
          "base_uri": "https://localhost:8080/"
        },
        "id": "C-Pf7mun8Wjl",
        "outputId": "ba427b4c-915c-4cda-8fa3-4fb591457746"
      },
      "execution_count": 12,
      "outputs": [
        {
          "output_type": "stream",
          "name": "stdout",
          "text": [
            "PyTorch version: 2.6.0+cpu\n",
            "Is CUDA available? False\n"
          ]
        }
      ]
    },
    {
      "cell_type": "markdown",
      "source": [
        "**Q6. How do you create a simple neural network in PyTorch?**"
      ],
      "metadata": {
        "id": "AxVuZFP89bQU"
      }
    },
    {
      "cell_type": "code",
      "source": [
        "import torch\n",
        "import torch.nn as nn\n",
        "import torch.nn.functional as F\n",
        "\n",
        "# Define the neural network\n",
        "class SimpleNN(nn.Module):\n",
        "    def __init__(self):\n",
        "        super(SimpleNN, self).__init__()\n",
        "        self.fc1 = nn.Linear(4, 8)   # Input layer: 4 features → Hidden layer: 8 neurons\n",
        "        self.fc2 = nn.Linear(8, 3)   # Hidden layer → Output layer: 3 classes\n",
        "\n",
        "    def forward(self, x):\n",
        "        x = F.relu(self.fc1(x))      # Activation function for hidden layer\n",
        "        x = self.fc2(x)              # Output layer (no activation here, will use loss later)\n",
        "        return x\n",
        "\n",
        "# Create model instance\n",
        "model = SimpleNN()\n",
        "\n",
        "# Display model architecture\n",
        "print(model)\n"
      ],
      "metadata": {
        "colab": {
          "base_uri": "https://localhost:8080/"
        },
        "id": "bjdclg2a9dSl",
        "outputId": "d4d37f94-4bd3-49fc-dfd0-c829407b2f4e"
      },
      "execution_count": 13,
      "outputs": [
        {
          "output_type": "stream",
          "name": "stdout",
          "text": [
            "SimpleNN(\n",
            "  (fc1): Linear(in_features=4, out_features=8, bias=True)\n",
            "  (fc2): Linear(in_features=8, out_features=3, bias=True)\n",
            ")\n"
          ]
        }
      ]
    },
    {
      "cell_type": "markdown",
      "source": [
        "**Q7. How do you define a loss function and optimizer in PyTorch?**"
      ],
      "metadata": {
        "id": "NYZSQSX2DYcQ"
      }
    },
    {
      "cell_type": "code",
      "source": [
        "import torch\n",
        "import torch.nn as nn\n",
        "import torch.optim as optim\n",
        "\n",
        "# Example model (from Q6)\n",
        "class SimpleNN(nn.Module):\n",
        "    def __init__(self):\n",
        "        super(SimpleNN, self).__init__()\n",
        "        self.fc1 = nn.Linear(4, 8)\n",
        "        self.fc2 = nn.Linear(8, 3)\n",
        "\n",
        "    def forward(self, x):\n",
        "        x = torch.relu(self.fc1(x))\n",
        "        x = self.fc2(x)\n",
        "        return x\n",
        "\n",
        "model = SimpleNN()\n",
        "\n",
        "# Define a loss function (CrossEntropyLoss for classification)\n",
        "criterion = nn.CrossEntropyLoss()\n",
        "\n",
        "# Define an optimizer (Adam optimizer with learning rate 0.001)\n",
        "optimizer = optim.Adam(model.parameters(), lr=0.001)\n",
        "\n",
        "print(\"Loss function:\", criterion)\n",
        "print(\"Optimizer:\", optimizer)\n"
      ],
      "metadata": {
        "colab": {
          "base_uri": "https://localhost:8080/"
        },
        "id": "Dts9FiDUDXn4",
        "outputId": "e9c2b080-34aa-4e77-9ff1-089eb7210728"
      },
      "execution_count": 14,
      "outputs": [
        {
          "output_type": "stream",
          "name": "stdout",
          "text": [
            "Loss function: CrossEntropyLoss()\n",
            "Optimizer: Adam (\n",
            "Parameter Group 0\n",
            "    amsgrad: False\n",
            "    betas: (0.9, 0.999)\n",
            "    capturable: False\n",
            "    differentiable: False\n",
            "    eps: 1e-08\n",
            "    foreach: None\n",
            "    fused: None\n",
            "    lr: 0.001\n",
            "    maximize: False\n",
            "    weight_decay: 0\n",
            ")\n"
          ]
        }
      ]
    },
    {
      "cell_type": "markdown",
      "source": [
        "**Q8. How do you implement a custom loss function in PyTorch?**"
      ],
      "metadata": {
        "id": "_Ta5jpa1DuLi"
      }
    },
    {
      "cell_type": "code",
      "source": [
        "import torch\n",
        "import torch.nn as nn\n",
        "\n",
        "# Example: Custom Mean Absolute Error (MAE) loss\n",
        "class CustomMAELoss(nn.Module):\n",
        "    def __init__(self):\n",
        "        super(CustomMAELoss, self).__init__()\n",
        "\n",
        "    def forward(self, y_pred, y_true):\n",
        "        return torch.mean(torch.abs(y_pred - y_true))\n",
        "\n",
        "# Create an instance of the custom loss\n",
        "custom_loss = CustomMAELoss()\n",
        "\n",
        "# Example test\n",
        "y_pred = torch.tensor([[2.5], [0.0], [2.1]])\n",
        "y_true = torch.tensor([[3.0], [0.0], [2.0]])\n",
        "\n",
        "loss_value = custom_loss(y_pred, y_true)\n",
        "print(\"Custom loss value:\", loss_value.item())\n"
      ],
      "metadata": {
        "colab": {
          "base_uri": "https://localhost:8080/"
        },
        "id": "prod1lguD2Qy",
        "outputId": "62e4f434-2504-4b24-fae8-d2a724a17b35"
      },
      "execution_count": 15,
      "outputs": [
        {
          "output_type": "stream",
          "name": "stdout",
          "text": [
            "Custom loss value: 0.19999997317790985\n"
          ]
        }
      ]
    },
    {
      "cell_type": "markdown",
      "source": [
        "**Q9. How do you save and load a TensorFlow model?**"
      ],
      "metadata": {
        "id": "Lo-lXGN4EEPE"
      }
    },
    {
      "cell_type": "code",
      "source": [
        "import tensorflow as tf\n",
        "from tensorflow import keras\n",
        "from tensorflow.keras import layers\n",
        "\n",
        "# Create a simple model\n",
        "model = keras.Sequential([\n",
        "    layers.Dense(8, activation='relu', input_shape=(4,)),\n",
        "    layers.Dense(3, activation='softmax')\n",
        "])\n",
        "\n",
        "# Compile the model\n",
        "model.compile(optimizer='adam', loss='sparse_categorical_crossentropy', metrics=['accuracy'])\n",
        "\n",
        "# ---- Saving the model ----\n",
        "model.save(\"my_model.h5\")  # Save in HDF5 format\n",
        "print(\"Model saved as my_model.h5\")\n",
        "\n",
        "# ---- Loading the model ----\n",
        "loaded_model = keras.models.load_model(\"my_model.h5\")\n",
        "print(\"Model loaded successfully!\")\n",
        "loaded_model.summary()\n"
      ],
      "metadata": {
        "colab": {
          "base_uri": "https://localhost:8080/",
          "height": 333
        },
        "id": "LJI6GzncD8Om",
        "outputId": "66424d8d-5ce2-412c-85d2-4870f665023d"
      },
      "execution_count": 16,
      "outputs": [
        {
          "output_type": "stream",
          "name": "stderr",
          "text": [
            "/usr/local/lib/python3.11/dist-packages/keras/src/layers/core/dense.py:93: UserWarning: Do not pass an `input_shape`/`input_dim` argument to a layer. When using Sequential models, prefer using an `Input(shape)` object as the first layer in the model instead.\n",
            "  super().__init__(activity_regularizer=activity_regularizer, **kwargs)\n",
            "WARNING:absl:You are saving your model as an HDF5 file via `model.save()` or `keras.saving.save_model(model)`. This file format is considered legacy. We recommend using instead the native Keras format, e.g. `model.save('my_model.keras')` or `keras.saving.save_model(model, 'my_model.keras')`. \n",
            "WARNING:absl:Compiled the loaded model, but the compiled metrics have yet to be built. `model.compile_metrics` will be empty until you train or evaluate the model.\n"
          ]
        },
        {
          "output_type": "stream",
          "name": "stdout",
          "text": [
            "Model saved as my_model.h5\n",
            "Model loaded successfully!\n"
          ]
        },
        {
          "output_type": "display_data",
          "data": {
            "text/plain": [
              "\u001b[1mModel: \"sequential_2\"\u001b[0m\n"
            ],
            "text/html": [
              "<pre style=\"white-space:pre;overflow-x:auto;line-height:normal;font-family:Menlo,'DejaVu Sans Mono',consolas,'Courier New',monospace\"><span style=\"font-weight: bold\">Model: \"sequential_2\"</span>\n",
              "</pre>\n"
            ]
          },
          "metadata": {}
        },
        {
          "output_type": "display_data",
          "data": {
            "text/plain": [
              "┏━━━━━━━━━━━━━━━━━━━━━━━━━━━━━━━━━┳━━━━━━━━━━━━━━━━━━━━━━━━┳━━━━━━━━━━━━━━━┓\n",
              "┃\u001b[1m \u001b[0m\u001b[1mLayer (type)                   \u001b[0m\u001b[1m \u001b[0m┃\u001b[1m \u001b[0m\u001b[1mOutput Shape          \u001b[0m\u001b[1m \u001b[0m┃\u001b[1m \u001b[0m\u001b[1m      Param #\u001b[0m\u001b[1m \u001b[0m┃\n",
              "┡━━━━━━━━━━━━━━━━━━━━━━━━━━━━━━━━━╇━━━━━━━━━━━━━━━━━━━━━━━━╇━━━━━━━━━━━━━━━┩\n",
              "│ dense_4 (\u001b[38;5;33mDense\u001b[0m)                 │ (\u001b[38;5;45mNone\u001b[0m, \u001b[38;5;34m8\u001b[0m)              │            \u001b[38;5;34m40\u001b[0m │\n",
              "├─────────────────────────────────┼────────────────────────┼───────────────┤\n",
              "│ dense_5 (\u001b[38;5;33mDense\u001b[0m)                 │ (\u001b[38;5;45mNone\u001b[0m, \u001b[38;5;34m3\u001b[0m)              │            \u001b[38;5;34m27\u001b[0m │\n",
              "└─────────────────────────────────┴────────────────────────┴───────────────┘\n"
            ],
            "text/html": [
              "<pre style=\"white-space:pre;overflow-x:auto;line-height:normal;font-family:Menlo,'DejaVu Sans Mono',consolas,'Courier New',monospace\">┏━━━━━━━━━━━━━━━━━━━━━━━━━━━━━━━━━┳━━━━━━━━━━━━━━━━━━━━━━━━┳━━━━━━━━━━━━━━━┓\n",
              "┃<span style=\"font-weight: bold\"> Layer (type)                    </span>┃<span style=\"font-weight: bold\"> Output Shape           </span>┃<span style=\"font-weight: bold\">       Param # </span>┃\n",
              "┡━━━━━━━━━━━━━━━━━━━━━━━━━━━━━━━━━╇━━━━━━━━━━━━━━━━━━━━━━━━╇━━━━━━━━━━━━━━━┩\n",
              "│ dense_4 (<span style=\"color: #0087ff; text-decoration-color: #0087ff\">Dense</span>)                 │ (<span style=\"color: #00d7ff; text-decoration-color: #00d7ff\">None</span>, <span style=\"color: #00af00; text-decoration-color: #00af00\">8</span>)              │            <span style=\"color: #00af00; text-decoration-color: #00af00\">40</span> │\n",
              "├─────────────────────────────────┼────────────────────────┼───────────────┤\n",
              "│ dense_5 (<span style=\"color: #0087ff; text-decoration-color: #0087ff\">Dense</span>)                 │ (<span style=\"color: #00d7ff; text-decoration-color: #00d7ff\">None</span>, <span style=\"color: #00af00; text-decoration-color: #00af00\">3</span>)              │            <span style=\"color: #00af00; text-decoration-color: #00af00\">27</span> │\n",
              "└─────────────────────────────────┴────────────────────────┴───────────────┘\n",
              "</pre>\n"
            ]
          },
          "metadata": {}
        },
        {
          "output_type": "display_data",
          "data": {
            "text/plain": [
              "\u001b[1m Total params: \u001b[0m\u001b[38;5;34m69\u001b[0m (280.00 B)\n"
            ],
            "text/html": [
              "<pre style=\"white-space:pre;overflow-x:auto;line-height:normal;font-family:Menlo,'DejaVu Sans Mono',consolas,'Courier New',monospace\"><span style=\"font-weight: bold\"> Total params: </span><span style=\"color: #00af00; text-decoration-color: #00af00\">69</span> (280.00 B)\n",
              "</pre>\n"
            ]
          },
          "metadata": {}
        },
        {
          "output_type": "display_data",
          "data": {
            "text/plain": [
              "\u001b[1m Trainable params: \u001b[0m\u001b[38;5;34m67\u001b[0m (268.00 B)\n"
            ],
            "text/html": [
              "<pre style=\"white-space:pre;overflow-x:auto;line-height:normal;font-family:Menlo,'DejaVu Sans Mono',consolas,'Courier New',monospace\"><span style=\"font-weight: bold\"> Trainable params: </span><span style=\"color: #00af00; text-decoration-color: #00af00\">67</span> (268.00 B)\n",
              "</pre>\n"
            ]
          },
          "metadata": {}
        },
        {
          "output_type": "display_data",
          "data": {
            "text/plain": [
              "\u001b[1m Non-trainable params: \u001b[0m\u001b[38;5;34m0\u001b[0m (0.00 B)\n"
            ],
            "text/html": [
              "<pre style=\"white-space:pre;overflow-x:auto;line-height:normal;font-family:Menlo,'DejaVu Sans Mono',consolas,'Courier New',monospace\"><span style=\"font-weight: bold\"> Non-trainable params: </span><span style=\"color: #00af00; text-decoration-color: #00af00\">0</span> (0.00 B)\n",
              "</pre>\n"
            ]
          },
          "metadata": {}
        },
        {
          "output_type": "display_data",
          "data": {
            "text/plain": [
              "\u001b[1m Optimizer params: \u001b[0m\u001b[38;5;34m2\u001b[0m (12.00 B)\n"
            ],
            "text/html": [
              "<pre style=\"white-space:pre;overflow-x:auto;line-height:normal;font-family:Menlo,'DejaVu Sans Mono',consolas,'Courier New',monospace\"><span style=\"font-weight: bold\"> Optimizer params: </span><span style=\"color: #00af00; text-decoration-color: #00af00\">2</span> (12.00 B)\n",
              "</pre>\n"
            ]
          },
          "metadata": {}
        }
      ]
    },
    {
      "cell_type": "code",
      "source": [],
      "metadata": {
        "id": "V8fEMRAhELoq"
      },
      "execution_count": null,
      "outputs": []
    }
  ]
}