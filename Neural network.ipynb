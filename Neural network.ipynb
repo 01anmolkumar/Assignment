{
  "nbformat": 4,
  "nbformat_minor": 0,
  "metadata": {
    "colab": {
      "provenance": [],
      "authorship_tag": "ABX9TyPzux4E78qWa/1qSgxzbgOO",
      "include_colab_link": true
    },
    "kernelspec": {
      "name": "python3",
      "display_name": "Python 3"
    },
    "language_info": {
      "name": "python"
    }
  },
  "cells": [
    {
      "cell_type": "markdown",
      "metadata": {
        "id": "view-in-github",
        "colab_type": "text"
      },
      "source": [
        "<a href=\"https://colab.research.google.com/github/01anmolkumar/Assignment/blob/main/Neural%20network.ipynb\" target=\"_parent\"><img src=\"https://colab.research.google.com/assets/colab-badge.svg\" alt=\"Open In Colab\"/></a>"
      ]
    },
    {
      "cell_type": "markdown",
      "source": [
        "# Neural Network A Simple Perception"
      ],
      "metadata": {
        "id": "AycQHyro9_9B"
      }
    },
    {
      "cell_type": "markdown",
      "source": [
        "\n",
        "\n",
        "**Q1. What is deep learning, and how is it connected to artificial intelligence**\n",
        "\n",
        "Answer :-\n",
        "\n",
        "* Deep learning is a subset of machine learning, which is part of the broader field of artificial intelligence (AI).\n",
        "\n",
        "* It uses artificial neural networks that are inspired by the human brain and are made up of many layers—this is why it's called \"deep\" learning.\n",
        "\n",
        "* These layers allow the system to automatically learn patterns and features from large amounts of data, especially unstructured data like images, sound, or text.\n",
        "\n",
        "* Deep learning can perform complex tasks like image recognition, speech recognition, and natural language processing.\n",
        "\n",
        "* Unlike traditional machine learning, it doesn’t require manual feature selection — it learns directly from the raw data.\n",
        "\n",
        "* The relationship between AI, ML, and DL can be understood like this:\n",
        "\n",
        "\n",
        "Artificial Intelligence (AI)\n",
        "\n",
        "        └── Machine Learning (ML)\n",
        "           └── Deep Learning (DL)\n",
        "\n",
        "* Artificial Intelligence (AI): The broad concept of machines performing tasks that typically require human intelligence.\n",
        "\n",
        "* Machine Learning (ML): A subset of AI where machines learn from data to make predictions or decisions.\n",
        "\n",
        "* Deep Learning (DL): A subset of ML that uses deep neural networks to learn complex patterns and solve difficult problems.\n",
        "\n",
        "* In summary, deep learning is a powerful technique that helps build smart AI systems by enabling them to learn from experience just like humans.           \n",
        "\n"
      ],
      "metadata": {
        "id": "zuYC94qjSck8"
      }
    },
    {
      "cell_type": "markdown",
      "source": [
        "**Q2. What is a neural network, and what are the different types of neural networks?**\n",
        "\n",
        "Answer :-\n",
        "\n",
        "* A neural network is a computational model inspired by the structure and function of the human brain.\n",
        "\n",
        "* It consists of layers of nodes (called neurons). Each neuron receives inputs, processes them using weights and an activation function, and passes the result to the next layer.\n",
        "\n",
        "* Neural networks are used to find patterns in data and make predictions or decisions based on them.\n",
        "\n",
        "Types of Neural Networks:\n",
        "1. Feedforward Neural Network (FNN):\n",
        "\n",
        "  * The most basic type.\n",
        "\n",
        " * Data flows in one direction — from input to output.\n",
        "\n",
        " * Commonly used for classification and regression tasks.\n",
        "\n",
        "2. Convolutional Neural Network (CNN):\n",
        "\n",
        " * Mostly used for image and video processing.\n",
        "\n",
        " * Uses convolutional layers to automatically detect patterns like edges or textures.\n",
        "\n",
        "3. Recurrent Neural Network (RNN):\n",
        "\n",
        " * Designed for sequential data like time  series or text.\n",
        "\n",
        " * Has loops to remember past data (like memory).\n",
        "\n",
        "4. Long Short-Term Memory (LSTM):\n",
        "\n",
        " * A special type of RNN that solves the problem of long-term dependencies in data.\n",
        "\n",
        "5. Generative Adversarial Network (GAN):\n",
        "\n",
        "  * Consists of two networks (generator and discriminator) that compete with each other.\n",
        "\n",
        " * Used to generate new, realistic data (like images or music).\n",
        "\n",
        "6. Radial Basis Function Network (RBFN):\n",
        "\n",
        " * Uses radial basis functions as activation functions.\n",
        "\n",
        " * Mainly used in function approximation problems.\n",
        "\n",
        "\n"
      ],
      "metadata": {
        "id": "D-U4QjQrXaA7"
      }
    },
    {
      "cell_type": "markdown",
      "source": [
        "**Q3. What is the mathematical structure of a neural network?**\n",
        "\n",
        "Answer :-\n",
        "\n",
        "- A neural network is made up of layers of interconnected neurons. Each neuron performs a mathematical operation on its input data.\n",
        "\n",
        "- The main components involved are: weights, biases, activation functions, and layered architecture.\n",
        "\n",
        "- The input is passed through the network, where each layer performs computations and passes the result to the next layer.\n",
        "\n",
        "Mathematical Structure:\n",
        "\n",
        "1. Weighted Sum:\n",
        "   - Each input is multiplied by a weight and added to a bias:\n",
        "     z = w1*x1 + w2*x2 + ... + wn*xn + b\n",
        "   - In vector form:\n",
        "     z = W · X + b\n",
        "\n",
        "2. Activation Function:\n",
        "   - After calculating the weighted sum, an activation function is applied to introduce non-linearity:\n",
        "     a = f(z)\n",
        "\n",
        "3. Layer-Wise Computation:\n",
        "   - This process repeats for each layer in the network:\n",
        "     a(1) = f(W1 · X + b1)\n",
        "     a(2) = f(W2 · a(1) + b2)\n",
        "\n",
        "4. Output Layer:\n",
        "   - The final layer produces the output, such as a class label or a predicted value.\n",
        "\n",
        "5. Summary Equation:\n",
        "   - General form of the operation in a neural network:\n",
        "     a = f(W · X + b)\n",
        "\n",
        "Where:\n",
        "- W : Weights  \n",
        "- X : Input vector  \n",
        "- b : Bias  \n",
        "- f : Activation function  \n",
        "- a : Output of the neuron\n"
      ],
      "metadata": {
        "id": "k15jkB7GbyZI"
      }
    },
    {
      "cell_type": "markdown",
      "source": [
        "**Q4. What is an activation function, and why is it essential in neural networks?**\n",
        "\n",
        "Answer :-\n",
        "\n",
        "- An activation function is a mathematical function applied to the output of each neuron in a neural network.\n",
        "\n",
        "- It helps the network learn complex patterns by introducing non-linearity into the model.\n",
        "\n",
        "- Without activation functions, the neural network would behave like a simple linear model, no matter how many layers it has.\n",
        "\n",
        "- Activation functions decide whether a neuron should be activated or not, based on the input.\n",
        "\n",
        "- They are essential for the network to learn and solve tasks like classification, prediction, and image recognition.\n",
        "\n",
        "Why Activation Functions are Important:\n",
        "\n",
        "1. Introduce Non-Linearity:\n",
        "   - Real-world data is often non-linear, and activation functions help the network model these complex relationships.\n",
        "\n",
        "2. Enable Learning of Complex Features:\n",
        "   - They allow the network to stack multiple layers and learn detailed patterns in data.\n",
        "\n",
        "3. Control Output Range:\n",
        "   - Some functions (like Sigmoid or Tanh) squash the output between fixed ranges, which is useful for stability.\n",
        "\n",
        "4. Allow Gradient Flow:\n",
        "   - They make it possible to use gradient-based optimization like backpropagation.\n",
        "\n",
        "In summary, activation functions are critical for the performance, learning capability, and depth of a neural network.\n"
      ],
      "metadata": {
        "id": "wklVWIwf1TOo"
      }
    },
    {
      "cell_type": "markdown",
      "source": [
        "**Q5. Could you list some common activation functions used in neural networks?**\n",
        "\n",
        "Answer :-\n",
        "\n",
        "Yes, here are some commonly used activation functions in neural networks:\n",
        "\n",
        "1. Sigmoid Function:\n",
        "   - Formula: f(x) = 1 / (1 + e^(-x))\n",
        "   - Output range: (0, 1)\n",
        "   - Commonly used in binary classification problems.\n",
        "   - Limitation: Can cause vanishing gradient issues.\n",
        "\n",
        "2. Tanh (Hyperbolic Tangent) Function:\n",
        "   - Formula: f(x) = (e^x - e^(-x)) / (e^x + e^(-x))\n",
        "   - Output range: (-1, 1)\n",
        "   - Better than Sigmoid as it is zero-centered.\n",
        "\n",
        "3. ReLU (Rectified Linear Unit):\n",
        "   - Formula: f(x) = max(0, x)\n",
        "   - Most widely used in deep neural networks.\n",
        "   - Efficient and fast; helps with sparse activation.\n",
        "\n",
        "4. Leaky ReLU:\n",
        "   - Formula: f(x) = x if x > 0, else αx (α is a small constant)\n",
        "   - Solves the \"dying ReLU\" problem by allowing a small gradient when x < 0.\n",
        "\n",
        "5. Softmax Function:\n",
        "   - Used in the output layer of classification models.\n",
        "   - Converts output into probability distribution over classes.\n",
        "\n",
        "6. Swish:\n",
        "   - Formula: f(x) = x * sigmoid(x)\n",
        "   - Performs better in some deep networks than ReLU.\n",
        "\n",
        "These activation functions help neural networks learn and perform well on different types of tasks.\n"
      ],
      "metadata": {
        "id": "bM9GgdqJ2E8z"
      }
    },
    {
      "cell_type": "markdown",
      "source": [
        "**Q6. What is a multilayer neural network?**\n",
        "\n",
        "Answer :-\n",
        "\n",
        "- A multilayer neural network, also known as a multilayer perceptron (MLP), is a type of neural network that contains **more than one layer** between the input and output.\n",
        "\n",
        "- These extra layers are called **hidden layers**, and they allow the network to learn complex relationships in data.\n",
        "\n",
        "- Each layer is made up of neurons that perform calculations using weights, biases, and activation functions.\n",
        "\n",
        "- The output from one layer becomes the input for the next layer.\n",
        "\n",
        "- The network learns by adjusting weights through a process called backpropagation.\n",
        "\n",
        "Structure of a Multilayer Neural Network:\n",
        "\n",
        "1. Input Layer:\n",
        "   - Takes in the raw data features.\n",
        "   - Each neuron represents one feature.\n",
        "\n",
        "2. Hidden Layer(s):\n",
        "   - One or more layers between input and output.\n",
        "   - Perform the main computations and extract features.\n",
        "   - Use activation functions to introduce non-linearity.\n",
        "\n",
        "3. Output Layer:\n",
        "   - Produces the final prediction or result.\n",
        "   - Number of neurons depends on the task (e.g., 1 for binary classification, multiple for multi-class).\n",
        "\n",
        "Benefits of Multilayer Networks:\n",
        "- Can model **non-linear** and **complex relationships** in data.\n",
        "- Work well for **image processing, natural language tasks**, and **prediction problems**.\n",
        "- More accurate than single-layer models when trained properly.\n",
        "\n",
        "In summary, multilayer neural networks are the foundation of deep learning models due to their ability to learn powerful representations from data.\n"
      ],
      "metadata": {
        "id": "uM2ZSVZ02T11"
      }
    },
    {
      "cell_type": "markdown",
      "source": [
        "**Q7. What is a loss function, and why is it crucial for neural network training?**\n",
        "\n",
        "Answer :-\n",
        "\n",
        "- A loss function is a mathematical function that measures the **difference between the actual output and the predicted output** of a neural network.\n",
        "\n",
        "- It tells the network **how well or poorly it is performing**.\n",
        "\n",
        "- The goal of training a neural network is to **minimize the loss** by adjusting the weights through optimization.\n",
        "\n",
        "- The smaller the loss, the better the model's predictions are.\n",
        "\n",
        "Why Loss Function is Important:\n",
        "\n",
        "1. Guides the Learning Process:\n",
        "   - The loss function provides feedback to the model during training.\n",
        "\n",
        "2. Helps Optimize Weights:\n",
        "   - Based on the loss, the optimizer updates weights to improve performance.\n",
        "\n",
        "3. Measures Model Performance:\n",
        "   - It quantifies how far the predicted values are from the true values.\n",
        "\n",
        "4. Essential for Backpropagation:\n",
        "   - The loss function's value is used to compute gradients in backpropagation.\n",
        "\n",
        "In summary, the loss function plays a key role in **training, evaluating, and improving** a neural network by showing how accurate or inaccurate the model's predictions are.\n"
      ],
      "metadata": {
        "id": "Fy94tTfu4Ert"
      }
    },
    {
      "cell_type": "markdown",
      "source": [
        "**Q8. What are some common types of loss functions?**\n",
        "\n",
        "Answer :-\n",
        "\n",
        "Here are some commonly used loss functions in neural networks, depending on the type of problem (classification or regression):\n",
        "\n",
        "1. Mean Squared Error (MSE):\n",
        "   - Used for regression problems.\n",
        "   - Formula: MSE = (1/n) * Σ(actual - predicted)²\n",
        "   - Measures the average squared difference between actual and predicted values.\n",
        "\n",
        "2. Mean Absolute Error (MAE):\n",
        "   - Also used for regression.\n",
        "   - Formula: MAE = (1/n) * Σ|actual - predicted|\n",
        "   - Less sensitive to outliers compared to MSE.\n",
        "\n",
        "3. Binary Cross-Entropy:\n",
        "   - Used for binary classification tasks.\n",
        "   - Measures the difference between predicted probabilities and actual class labels (0 or 1).\n",
        "\n",
        "4. Categorical Cross-Entropy:\n",
        "   - Used for multi-class classification problems.\n",
        "   - Compares the predicted class probabilities to the actual one-hot encoded labels.\n",
        "\n",
        "5. Sparse Categorical Cross-Entropy:\n",
        "   - Similar to categorical cross-entropy but used when labels are integers (not one-hot encoded).\n",
        "\n",
        "6. Hinge Loss:\n",
        "   - Used for Support Vector Machines (SVMs) and sometimes in neural networks for binary classification.\n",
        "\n",
        "7. Huber Loss:\n",
        "   - A combination of MAE and MSE.\n",
        "   - Useful when you want to be less sensitive to outliers than MSE but more sensitive than MAE.\n",
        "\n",
        "In summary, the choice of loss function depends on the task, and selecting the right one is important for effective training of the neural network.\n"
      ],
      "metadata": {
        "id": "8MltvKp54-UK"
      }
    },
    {
      "cell_type": "markdown",
      "source": [
        "**Q9. How does a neural network learn?**\n",
        "\n",
        "Answer :-\n",
        "\n",
        "A neural network learns by adjusting its internal parameters (weights and biases) to minimize the difference between its predictions and the actual values. This learning process happens through the following steps:\n",
        "\n",
        "1. Forward Propagation:\n",
        "   - Input data is passed through the network.\n",
        "   - Each neuron performs calculations and passes the result to the next layer.\n",
        "   - The final output is the model's prediction.\n",
        "\n",
        "2. Loss Calculation:\n",
        "   - The loss function calculates how far the prediction is from the actual result.\n",
        "   - This gives the model a signal about how well it is performing.\n",
        "\n",
        "3. Backward Propagation (Backpropagation):\n",
        "   - The model computes the gradient (rate of change) of the loss with respect to each weight.\n",
        "   - This is done using a technique called backpropagation.\n",
        "\n",
        "4. Weight Update (Using Optimizer):\n",
        "   - An optimizer (like SGD or Adam) updates the weights in the direction that reduces the loss.\n",
        "   - The amount of change is determined by the learning rate.\n",
        "\n",
        "5. Repeat for Multiple Epochs:\n",
        "   - These steps are repeated many times (epochs) until the model achieves good accuracy or minimum loss.\n",
        "\n",
        "In summary, a neural network learns through repeated cycles of prediction, error measurement, and weight correction — gradually improving its ability to make accurate predictions.\n"
      ],
      "metadata": {
        "id": "yJFrwoOR5QFx"
      }
    },
    {
      "cell_type": "markdown",
      "source": [
        "**Q10. What is an optimizer in neural networks, and why is it necessary?**\n",
        "\n",
        "Answer :-\n",
        "\n",
        "- An optimizer is an algorithm that helps the neural network **adjust its weights and biases** to minimize the loss function.\n",
        "\n",
        "- It plays a critical role in the **training process** by guiding the model on how to improve and learn from errors.\n",
        "\n",
        "- Optimizers work by computing **gradients** (how much the loss changes with respect to each weight) and then updating the weights to reduce the loss.\n",
        "\n",
        "Why Optimizers are Necessary:\n",
        "\n",
        "1. Improve Model Accuracy:\n",
        "   - Optimizers help the model learn faster and reach better performance.\n",
        "\n",
        "2. Control Learning Rate:\n",
        "   - They manage how much the weights change during training to avoid overshooting or slow learning.\n",
        "\n",
        "3. Speed Up Convergence:\n",
        "   - A good optimizer can help the model converge (settle into the best state) more quickly.\n",
        "\n",
        "4. Handle Complex Data:\n",
        "   - Optimizers make it possible to train large and deep neural networks effectively.\n",
        "\n",
        "5. Adapt to Changing Gradients:\n",
        "   - Some advanced optimizers (like Adam) can automatically adjust the learning rate during training.\n",
        "\n",
        "In summary, without an optimizer, the model would not know how to reduce its error and learn — making training impossible.\n"
      ],
      "metadata": {
        "id": "ZffdcNC15zeB"
      }
    },
    {
      "cell_type": "markdown",
      "source": [
        "**Q11. Could you briefly describe some common optimizers?**\n",
        "\n",
        "Answer :-\n",
        "\n",
        "Here are some commonly used optimizers in neural networks:\n",
        "\n",
        "1. Stochastic Gradient Descent (SGD):\n",
        "   - Updates weights using one data point at a time.\n",
        "   - Simple and efficient but can be slow for large datasets.\n",
        "   - Formula: w = w - learning_rate × gradient\n",
        "\n",
        "2. Mini-Batch Gradient Descent:\n",
        "   - Combines the benefits of SGD and batch gradient descent.\n",
        "   - Uses a small batch of data to update weights.\n",
        "   - Faster and more stable than plain SGD.\n",
        "\n",
        "3. Momentum:\n",
        "   - Adds a fraction of the previous update to the current one.\n",
        "   - Helps accelerate learning and reduces oscillation.\n",
        "\n",
        "4. RMSProp (Root Mean Square Propagation):\n",
        "   - Adjusts the learning rate for each parameter individually.\n",
        "   - Helps handle non-stationary objectives.\n",
        "   - Works well for recurrent neural networks.\n",
        "\n",
        "5. Adam (Adaptive Moment Estimation):\n",
        "   - Combines Momentum and RMSProp.\n",
        "   - Automatically adjusts learning rates during training.\n",
        "   - One of the most widely used optimizers in deep learning.\n",
        "\n",
        "6. Adagrad:\n",
        "   - Adapts the learning rate for each parameter based on past gradients.\n",
        "   - Useful for sparse data, but learning rate can shrink too much over time.\n",
        "\n",
        "In summary, optimizers help neural networks learn effectively, and the choice of optimizer can significantly impact the speed and quality of training.\n"
      ],
      "metadata": {
        "id": "30bzgsCb6KPW"
      }
    },
    {
      "cell_type": "markdown",
      "source": [
        "**Q12. Can you explain forward and backward propagation in a neural network?**\n",
        "\n",
        "Answer :-\n",
        "\n",
        "Yes, forward and backward propagation are the two key processes in training a neural network.\n",
        "\n",
        "1. Forward Propagation:\n",
        "\n",
        "   - In this step, input data is passed through the network layer by layer.\n",
        "\n",
        "   - Each neuron calculates a weighted sum of inputs and applies an activation function.\n",
        "\n",
        "   - The final output is the prediction made by the network.\n",
        "\n",
        "   - This prediction is then compared to the actual value using a loss function.\n",
        "\n",
        "2. Backward Propagation (Backpropagation):\n",
        "\n",
        "   - This is the process of learning from the error.\n",
        "\n",
        "   - The loss is propagated backward through the network using derivatives (gradients).\n",
        "\n",
        "   - Each weight’s contribution to the loss is calculated using the chain rule of calculus.\n",
        "\n",
        "   - These gradients are used to update the weights and biases to reduce the error.\n",
        "\n",
        "Steps in Order:\n",
        "\n",
        "   a. Forward pass: Compute the prediction.\n",
        "   \n",
        "   b. Compute loss: Measure the error.\n",
        "   \n",
        "   c. Backward pass: Calculate gradients of the loss w.r.t weights.\n",
        "   \n",
        "   d. Weight update: Use optimizer to adjust weights.\n",
        "\n",
        "In summary, forward propagation makes predictions, and backward propagation helps the model learn by adjusting weights to reduce error.\n"
      ],
      "metadata": {
        "id": "12El_vvG6kwQ"
      }
    },
    {
      "cell_type": "markdown",
      "source": [
        "**Q13. What is weight initialization, and how does it impact training?**\n",
        "\n",
        "Answer :-\n",
        "\n",
        "- Weight initialization is the process of setting the initial values for the weights in a neural network before training begins.\n",
        "\n",
        "- Proper weight initialization is important because it affects how fast the model trains and whether it can reach a good solution.\n",
        "\n",
        "Why Weight Initialization Matters:\n",
        "\n",
        "1. Prevents Symmetry:\n",
        "   - If all weights start with the same value, neurons will learn the same thing.\n",
        "   - Random initialization ensures neurons learn different features.\n",
        "\n",
        "2. Affects Gradient Flow:\n",
        "   - Poor initialization can cause gradients to vanish (become too small) or explode (become too large), making learning slow or unstable.\n",
        "\n",
        "3. Helps Faster Convergence:\n",
        "   - Proper initialization can lead to faster and more stable training.\n",
        "\n",
        "Common Weight Initialization Methods:\n",
        "\n",
        "1. **Zero Initialization**:\n",
        "   - All weights are set to 0 (not recommended).\n",
        "\n",
        "2. **Random Initialization**:\n",
        "   - Weights are assigned small random values.\n",
        "\n",
        "3. **Xavier (Glorot) Initialization**:\n",
        "   - Balances variance across layers; commonly used with sigmoid or tanh activation.\n",
        "\n",
        "4. **He Initialization**:\n",
        "   - Works well with ReLU activation; helps prevent vanishing gradients.\n",
        "\n",
        "In summary, good weight initialization helps the neural network train efficiently and avoids problems like slow learning or unstable gradients.\n"
      ],
      "metadata": {
        "id": "BfaY2b8_7O70"
      }
    },
    {
      "cell_type": "markdown",
      "source": [
        "**Q14. What is the vanishing gradient problem in deep learning?**\n",
        "\n",
        "Answer :-\n",
        "\n",
        "- The vanishing gradient problem occurs during the training of deep neural networks when the gradients (used to update weights) become extremely small.\n",
        "\n",
        "- As a result, the weights stop changing, and the network **stops learning**, especially in the earlier layers.\n",
        "\n",
        "When It Happens:\n",
        "\n",
        "1. During backpropagation, gradients are calculated layer by layer.\n",
        "2. If the gradients shrink too much while moving backward, the updates to early layers become negligible.\n",
        "3. This usually happens when using certain activation functions like sigmoid or tanh in deep networks.\n",
        "\n",
        "Why It Is a Problem:\n",
        "\n",
        "- The network learns very slowly or not at all.\n",
        "- Deep layers fail to update their weights effectively.\n",
        "- Final model may perform poorly, even after long training.\n",
        "\n",
        "Causes:\n",
        "\n",
        "- Activation functions with small derivatives (like sigmoid).\n",
        "- Poor weight initialization.\n",
        "- Too many layers in the network.\n",
        "\n",
        "Solutions:\n",
        "\n",
        "1. Use ReLU or similar activation functions that reduce the chance of vanishing gradients.\n",
        "2. Use proper weight initialization (e.g., Xavier or He initialization).\n",
        "3. Apply techniques like Batch Normalization or Residual Connections (used in ResNet).\n",
        "\n",
        "In summary, the vanishing gradient problem prevents deep networks from learning properly, especially in their early layers, and must be addressed with better architectures and techniques.\n"
      ],
      "metadata": {
        "id": "x20XRIiB78Sx"
      }
    },
    {
      "cell_type": "markdown",
      "source": [
        "**Q15. What is the exploding gradient problem?**\n",
        "\n",
        "Answer :-\n",
        "\n",
        "- The exploding gradient problem occurs when the gradients during backpropagation become **very large**, causing the weights in a neural network to grow uncontrollably.\n",
        "\n",
        "- This can make the model unstable and result in **very high loss values** or **NaN (Not a Number)** errors during training.\n",
        "\n",
        "When It Happens:\n",
        "\n",
        "1. In deep networks, especially those with many layers or recurrent structures.\n",
        "2. When the product of gradients across layers increases exponentially.\n",
        "3. Poor weight initialization or large learning rates can also cause it.\n",
        "\n",
        "Why It Is a Problem:\n",
        "\n",
        "- Causes training to diverge instead of converge.\n",
        "- Leads to numerical instability and poor model performance.\n",
        "- The model fails to learn meaningful patterns from the data.\n",
        "\n",
        "Causes:\n",
        "\n",
        "- Very deep neural networks.\n",
        "- Large weight values or poor initialization.\n",
        "- High learning rate.\n",
        "\n",
        "Solutions:\n",
        "\n",
        "1. Gradient Clipping:\n",
        "   - Set a threshold to limit the size of gradients.\n",
        "\n",
        "2. Use Proper Initialization:\n",
        "   - Techniques like Xavier or He initialization help prevent exploding gradients.\n",
        "\n",
        "3. Lower Learning Rate:\n",
        "   - Reduces the size of updates during training.\n",
        "\n",
        "4. Batch Normalization:\n",
        "   - Helps stabilize training by normalizing activations layer by layer.\n",
        "\n",
        "In summary, the exploding gradient problem can crash or destabilize neural network training, but it can be fixed using clipping, better initialization, and smaller learning rates.\n"
      ],
      "metadata": {
        "id": "WMGIBPo6-lDF"
      }
    },
    {
      "cell_type": "markdown",
      "source": [
        "# Practical"
      ],
      "metadata": {
        "id": "LuWherdb_FqM"
      }
    },
    {
      "cell_type": "markdown",
      "source": [
        "**Q1.How do you create a simple perceptron for basic binary classification?**"
      ],
      "metadata": {
        "id": "pYVKIecGPa3-"
      }
    },
    {
      "cell_type": "code",
      "execution_count": 3,
      "metadata": {
        "id": "FsgIutCfSWaS"
      },
      "outputs": [],
      "source": [
        "import math\n",
        "\n",
        "class Perceptron:\n",
        "    def __init__(self, num_inputs, threshold):\n",
        "        self.weights = [0.0] * num_inputs\n",
        "        self.bias = 0.0\n",
        "        self.threshold = threshold\n",
        "\n",
        "    def predict(self, inputs):\n",
        "        weighted_sum = sum(w * x for w, x in zip(self.weights, inputs)) + self.bias\n",
        "        output = 1 / (1 + math.exp(-weighted_sum))  # Sigmoid\n",
        "        return 1 if output > self.threshold else 0\n",
        "\n",
        "    def train(self, training_data, targets, learning_rate, epochs):\n",
        "        for epoch in range(epochs):\n",
        "            for input_vector, target in zip(training_data, targets):\n",
        "                prediction = self.predict(input_vector)\n",
        "                error = target - prediction\n",
        "                for i in range(len(self.weights)):\n",
        "                    self.weights[i] += learning_rate * error * input_vector[i]\n",
        "                self.bias += learning_rate * error\n"
      ]
    },
    {
      "cell_type": "code",
      "source": [
        "X = [[0, 0], [0, 1], [1, 0], [1, 1]]\n",
        "y = [0, 0, 0, 1]\n",
        "\n",
        "model = Perceptron(num_inputs=2, threshold=0.5)\n",
        "model.train(X, y, learning_rate=0.1, epochs=10)\n",
        "\n",
        "for x in X:\n",
        "    print(f\"Input: {x}, Predicted: {model.predict(x)}\")\n"
      ],
      "metadata": {
        "colab": {
          "base_uri": "https://localhost:8080/"
        },
        "id": "Ujwzz7mMbxlE",
        "outputId": "aafffd3f-99d9-4a33-a9d7-bfa5c8df36bf"
      },
      "execution_count": 4,
      "outputs": [
        {
          "output_type": "stream",
          "name": "stdout",
          "text": [
            "Input: [0, 0], Predicted: 0\n",
            "Input: [0, 1], Predicted: 0\n",
            "Input: [1, 0], Predicted: 0\n",
            "Input: [1, 1], Predicted: 1\n"
          ]
        }
      ]
    },
    {
      "cell_type": "markdown",
      "source": [
        "**Q2.How can you build a neural network with one hidden layer using Keras?**"
      ],
      "metadata": {
        "id": "bqPXaFoyp9Xu"
      }
    },
    {
      "cell_type": "code",
      "source": [
        "import numpy as np\n",
        "from tensorflow.keras.models import Sequential\n",
        "from tensorflow.keras.layers import Dense\n",
        "\n",
        "# Step 1: Define the model\n",
        "model = Sequential()\n",
        "\n",
        "# Step 2: Add one hidden layer\n",
        "model.add(Dense(units=4, activation='relu', input_shape=(2,)))  # Use input_shape instead of input_dim\n",
        "\n",
        "# Step 3: Add output layer\n",
        "model.add(Dense(units=1, activation='sigmoid'))\n",
        "\n",
        "# Step 4: Compile the model\n",
        "model.compile(optimizer='adam', loss='binary_crossentropy', metrics=['accuracy'])\n",
        "\n",
        "# Step 5: Training data (converted to NumPy arrays)\n",
        "X = np.array([[0, 0], [0, 1], [1, 0], [1, 1]])\n",
        "y = np.array([0, 0, 0, 1])\n",
        "\n",
        "# Step 6: Train the model\n",
        "model.fit(X, y, epochs=25)\n",
        "\n",
        "# Step 7: Predict\n",
        "print(\"Predictions:\")\n",
        "print(model.predict(X))\n"
      ],
      "metadata": {
        "id": "yFuthVIvn9zJ",
        "colab": {
          "base_uri": "https://localhost:8080/"
        },
        "outputId": "664251af-d8c9-4544-82aa-02e07a59e17c"
      },
      "execution_count": 6,
      "outputs": [
        {
          "output_type": "stream",
          "name": "stdout",
          "text": [
            "Epoch 1/25\n",
            "\u001b[1m1/1\u001b[0m \u001b[32m━━━━━━━━━━━━━━━━━━━━\u001b[0m\u001b[37m\u001b[0m \u001b[1m1s\u001b[0m 1s/step - accuracy: 0.7500 - loss: 0.6410\n",
            "Epoch 2/25\n",
            "\u001b[1m1/1\u001b[0m \u001b[32m━━━━━━━━━━━━━━━━━━━━\u001b[0m\u001b[37m\u001b[0m \u001b[1m0s\u001b[0m 48ms/step - accuracy: 0.7500 - loss: 0.6403\n",
            "Epoch 3/25\n",
            "\u001b[1m1/1\u001b[0m \u001b[32m━━━━━━━━━━━━━━━━━━━━\u001b[0m\u001b[37m\u001b[0m \u001b[1m0s\u001b[0m 53ms/step - accuracy: 0.7500 - loss: 0.6395\n",
            "Epoch 4/25\n",
            "\u001b[1m1/1\u001b[0m \u001b[32m━━━━━━━━━━━━━━━━━━━━\u001b[0m\u001b[37m\u001b[0m \u001b[1m0s\u001b[0m 38ms/step - accuracy: 0.7500 - loss: 0.6388\n",
            "Epoch 5/25\n",
            "\u001b[1m1/1\u001b[0m \u001b[32m━━━━━━━━━━━━━━━━━━━━\u001b[0m\u001b[37m\u001b[0m \u001b[1m0s\u001b[0m 51ms/step - accuracy: 0.7500 - loss: 0.6383\n",
            "Epoch 6/25\n",
            "\u001b[1m1/1\u001b[0m \u001b[32m━━━━━━━━━━━━━━━━━━━━\u001b[0m\u001b[37m\u001b[0m \u001b[1m0s\u001b[0m 51ms/step - accuracy: 0.7500 - loss: 0.6377\n",
            "Epoch 7/25\n",
            "\u001b[1m1/1\u001b[0m \u001b[32m━━━━━━━━━━━━━━━━━━━━\u001b[0m\u001b[37m\u001b[0m \u001b[1m0s\u001b[0m 67ms/step - accuracy: 0.7500 - loss: 0.6370\n",
            "Epoch 8/25\n",
            "\u001b[1m1/1\u001b[0m \u001b[32m━━━━━━━━━━━━━━━━━━━━\u001b[0m\u001b[37m\u001b[0m \u001b[1m0s\u001b[0m 200ms/step - accuracy: 0.7500 - loss: 0.6363\n",
            "Epoch 9/25\n",
            "\u001b[1m1/1\u001b[0m \u001b[32m━━━━━━━━━━━━━━━━━━━━\u001b[0m\u001b[37m\u001b[0m \u001b[1m0s\u001b[0m 70ms/step - accuracy: 0.7500 - loss: 0.6356\n",
            "Epoch 10/25\n",
            "\u001b[1m1/1\u001b[0m \u001b[32m━━━━━━━━━━━━━━━━━━━━\u001b[0m\u001b[37m\u001b[0m \u001b[1m0s\u001b[0m 54ms/step - accuracy: 0.7500 - loss: 0.6348\n",
            "Epoch 11/25\n",
            "\u001b[1m1/1\u001b[0m \u001b[32m━━━━━━━━━━━━━━━━━━━━\u001b[0m\u001b[37m\u001b[0m \u001b[1m0s\u001b[0m 107ms/step - accuracy: 0.7500 - loss: 0.6341\n",
            "Epoch 12/25\n",
            "\u001b[1m1/1\u001b[0m \u001b[32m━━━━━━━━━━━━━━━━━━━━\u001b[0m\u001b[37m\u001b[0m \u001b[1m0s\u001b[0m 136ms/step - accuracy: 0.7500 - loss: 0.6335\n",
            "Epoch 13/25\n",
            "\u001b[1m1/1\u001b[0m \u001b[32m━━━━━━━━━━━━━━━━━━━━\u001b[0m\u001b[37m\u001b[0m \u001b[1m0s\u001b[0m 166ms/step - accuracy: 0.7500 - loss: 0.6328\n",
            "Epoch 14/25\n",
            "\u001b[1m1/1\u001b[0m \u001b[32m━━━━━━━━━━━━━━━━━━━━\u001b[0m\u001b[37m\u001b[0m \u001b[1m0s\u001b[0m 111ms/step - accuracy: 0.7500 - loss: 0.6320\n",
            "Epoch 15/25\n",
            "\u001b[1m1/1\u001b[0m \u001b[32m━━━━━━━━━━━━━━━━━━━━\u001b[0m\u001b[37m\u001b[0m \u001b[1m0s\u001b[0m 167ms/step - accuracy: 0.7500 - loss: 0.6313\n",
            "Epoch 16/25\n",
            "\u001b[1m1/1\u001b[0m \u001b[32m━━━━━━━━━━━━━━━━━━━━\u001b[0m\u001b[37m\u001b[0m \u001b[1m0s\u001b[0m 126ms/step - accuracy: 0.7500 - loss: 0.6305\n",
            "Epoch 17/25\n",
            "\u001b[1m1/1\u001b[0m \u001b[32m━━━━━━━━━━━━━━━━━━━━\u001b[0m\u001b[37m\u001b[0m \u001b[1m0s\u001b[0m 114ms/step - accuracy: 0.7500 - loss: 0.6298\n",
            "Epoch 18/25\n",
            "\u001b[1m1/1\u001b[0m \u001b[32m━━━━━━━━━━━━━━━━━━━━\u001b[0m\u001b[37m\u001b[0m \u001b[1m0s\u001b[0m 67ms/step - accuracy: 0.7500 - loss: 0.6290\n",
            "Epoch 19/25\n",
            "\u001b[1m1/1\u001b[0m \u001b[32m━━━━━━━━━━━━━━━━━━━━\u001b[0m\u001b[37m\u001b[0m \u001b[1m0s\u001b[0m 69ms/step - accuracy: 0.7500 - loss: 0.6282\n",
            "Epoch 20/25\n",
            "\u001b[1m1/1\u001b[0m \u001b[32m━━━━━━━━━━━━━━━━━━━━\u001b[0m\u001b[37m\u001b[0m \u001b[1m0s\u001b[0m 41ms/step - accuracy: 0.7500 - loss: 0.6275\n",
            "Epoch 21/25\n",
            "\u001b[1m1/1\u001b[0m \u001b[32m━━━━━━━━━━━━━━━━━━━━\u001b[0m\u001b[37m\u001b[0m \u001b[1m0s\u001b[0m 63ms/step - accuracy: 0.7500 - loss: 0.6267\n",
            "Epoch 22/25\n",
            "\u001b[1m1/1\u001b[0m \u001b[32m━━━━━━━━━━━━━━━━━━━━\u001b[0m\u001b[37m\u001b[0m \u001b[1m0s\u001b[0m 59ms/step - accuracy: 0.7500 - loss: 0.6259\n",
            "Epoch 23/25\n",
            "\u001b[1m1/1\u001b[0m \u001b[32m━━━━━━━━━━━━━━━━━━━━\u001b[0m\u001b[37m\u001b[0m \u001b[1m0s\u001b[0m 53ms/step - accuracy: 0.7500 - loss: 0.6251\n",
            "Epoch 24/25\n",
            "\u001b[1m1/1\u001b[0m \u001b[32m━━━━━━━━━━━━━━━━━━━━\u001b[0m\u001b[37m\u001b[0m \u001b[1m0s\u001b[0m 47ms/step - accuracy: 0.7500 - loss: 0.6244\n",
            "Epoch 25/25\n",
            "\u001b[1m1/1\u001b[0m \u001b[32m━━━━━━━━━━━━━━━━━━━━\u001b[0m\u001b[37m\u001b[0m \u001b[1m0s\u001b[0m 48ms/step - accuracy: 0.7500 - loss: 0.6236\n",
            "Predictions:\n",
            "\u001b[1m1/1\u001b[0m \u001b[32m━━━━━━━━━━━━━━━━━━━━\u001b[0m\u001b[37m\u001b[0m \u001b[1m0s\u001b[0m 58ms/step\n",
            "[[0.4890968 ]\n",
            " [0.38665268]\n",
            " [0.46424362]\n",
            " [0.4932587 ]]\n"
          ]
        }
      ]
    },
    {
      "cell_type": "markdown",
      "source": [
        "**Q3. How do you initialize weights using the Xavier (Glorot) initialization method in Keras?**"
      ],
      "metadata": {
        "id": "nDMk8mMqUkAD"
      }
    },
    {
      "cell_type": "code",
      "source": [
        "import numpy as np\n",
        "from tensorflow.keras.models import Sequential\n",
        "from tensorflow.keras.layers import Dense\n",
        "from tensorflow.keras.initializers import glorot_uniform\n",
        "\n",
        "# Step 1: Create model\n",
        "model = Sequential()\n",
        "\n",
        "# Step 2: Add hidden layer with Xavier initialization\n",
        "model.add(Dense(units=4, activation='relu', input_shape=(2,), kernel_initializer=glorot_uniform()))\n",
        "\n",
        "# Step 3: Output layer\n",
        "model.add(Dense(units=1, activation='sigmoid', kernel_initializer=glorot_uniform()))\n",
        "\n",
        "# Step 4: Compile the model\n",
        "model.compile(optimizer='adam', loss='binary_crossentropy', metrics=['accuracy'])\n",
        "\n",
        "# Step 5: Data\n",
        "X = np.array([[0,0],[0,1],[1,0],[1,1]])\n",
        "y = np.array([0, 0, 0, 1])\n",
        "\n",
        "# Step 6: Train the model\n",
        "model.fit(X, y, epochs=25)\n",
        "\n",
        "# Step 7: Predictions\n",
        "print(\"Predictions:\")\n",
        "print(model.predict(X))\n"
      ],
      "metadata": {
        "colab": {
          "base_uri": "https://localhost:8080/"
        },
        "id": "vWsXBvk93fO5",
        "outputId": "3dd5dc75-6d47-4601-99be-47ca6b30477a"
      },
      "execution_count": 8,
      "outputs": [
        {
          "output_type": "stream",
          "name": "stdout",
          "text": [
            "Epoch 1/25\n",
            "\u001b[1m1/1\u001b[0m \u001b[32m━━━━━━━━━━━━━━━━━━━━\u001b[0m\u001b[37m\u001b[0m \u001b[1m1s\u001b[0m 742ms/step - accuracy: 0.5000 - loss: 0.6831\n",
            "Epoch 2/25\n",
            "\u001b[1m1/1\u001b[0m \u001b[32m━━━━━━━━━━━━━━━━━━━━\u001b[0m\u001b[37m\u001b[0m \u001b[1m0s\u001b[0m 46ms/step - accuracy: 0.5000 - loss: 0.6827\n",
            "Epoch 3/25\n",
            "\u001b[1m1/1\u001b[0m \u001b[32m━━━━━━━━━━━━━━━━━━━━\u001b[0m\u001b[37m\u001b[0m \u001b[1m0s\u001b[0m 66ms/step - accuracy: 0.5000 - loss: 0.6822\n",
            "Epoch 4/25\n",
            "\u001b[1m1/1\u001b[0m \u001b[32m━━━━━━━━━━━━━━━━━━━━\u001b[0m\u001b[37m\u001b[0m \u001b[1m0s\u001b[0m 50ms/step - accuracy: 0.5000 - loss: 0.6818\n",
            "Epoch 5/25\n",
            "\u001b[1m1/1\u001b[0m \u001b[32m━━━━━━━━━━━━━━━━━━━━\u001b[0m\u001b[37m\u001b[0m \u001b[1m0s\u001b[0m 47ms/step - accuracy: 0.5000 - loss: 0.6814\n",
            "Epoch 6/25\n",
            "\u001b[1m1/1\u001b[0m \u001b[32m━━━━━━━━━━━━━━━━━━━━\u001b[0m\u001b[37m\u001b[0m \u001b[1m0s\u001b[0m 58ms/step - accuracy: 0.5000 - loss: 0.6810\n",
            "Epoch 7/25\n",
            "\u001b[1m1/1\u001b[0m \u001b[32m━━━━━━━━━━━━━━━━━━━━\u001b[0m\u001b[37m\u001b[0m \u001b[1m0s\u001b[0m 43ms/step - accuracy: 0.5000 - loss: 0.6806\n",
            "Epoch 8/25\n",
            "\u001b[1m1/1\u001b[0m \u001b[32m━━━━━━━━━━━━━━━━━━━━\u001b[0m\u001b[37m\u001b[0m \u001b[1m0s\u001b[0m 63ms/step - accuracy: 0.5000 - loss: 0.6802\n",
            "Epoch 9/25\n",
            "\u001b[1m1/1\u001b[0m \u001b[32m━━━━━━━━━━━━━━━━━━━━\u001b[0m\u001b[37m\u001b[0m \u001b[1m0s\u001b[0m 45ms/step - accuracy: 0.5000 - loss: 0.6798\n",
            "Epoch 10/25\n",
            "\u001b[1m1/1\u001b[0m \u001b[32m━━━━━━━━━━━━━━━━━━━━\u001b[0m\u001b[37m\u001b[0m \u001b[1m0s\u001b[0m 64ms/step - accuracy: 0.5000 - loss: 0.6794\n",
            "Epoch 11/25\n",
            "\u001b[1m1/1\u001b[0m \u001b[32m━━━━━━━━━━━━━━━━━━━━\u001b[0m\u001b[37m\u001b[0m \u001b[1m0s\u001b[0m 57ms/step - accuracy: 0.5000 - loss: 0.6789\n",
            "Epoch 12/25\n",
            "\u001b[1m1/1\u001b[0m \u001b[32m━━━━━━━━━━━━━━━━━━━━\u001b[0m\u001b[37m\u001b[0m \u001b[1m0s\u001b[0m 46ms/step - accuracy: 0.5000 - loss: 0.6785\n",
            "Epoch 13/25\n",
            "\u001b[1m1/1\u001b[0m \u001b[32m━━━━━━━━━━━━━━━━━━━━\u001b[0m\u001b[37m\u001b[0m \u001b[1m0s\u001b[0m 59ms/step - accuracy: 0.5000 - loss: 0.6781\n",
            "Epoch 14/25\n",
            "\u001b[1m1/1\u001b[0m \u001b[32m━━━━━━━━━━━━━━━━━━━━\u001b[0m\u001b[37m\u001b[0m \u001b[1m0s\u001b[0m 59ms/step - accuracy: 0.5000 - loss: 0.6777\n",
            "Epoch 15/25\n",
            "\u001b[1m1/1\u001b[0m \u001b[32m━━━━━━━━━━━━━━━━━━━━\u001b[0m\u001b[37m\u001b[0m \u001b[1m0s\u001b[0m 41ms/step - accuracy: 0.5000 - loss: 0.6773\n",
            "Epoch 16/25\n",
            "\u001b[1m1/1\u001b[0m \u001b[32m━━━━━━━━━━━━━━━━━━━━\u001b[0m\u001b[37m\u001b[0m \u001b[1m0s\u001b[0m 42ms/step - accuracy: 0.5000 - loss: 0.6769\n",
            "Epoch 17/25\n",
            "\u001b[1m1/1\u001b[0m \u001b[32m━━━━━━━━━━━━━━━━━━━━\u001b[0m\u001b[37m\u001b[0m \u001b[1m0s\u001b[0m 47ms/step - accuracy: 0.5000 - loss: 0.6765\n",
            "Epoch 18/25\n",
            "\u001b[1m1/1\u001b[0m \u001b[32m━━━━━━━━━━━━━━━━━━━━\u001b[0m\u001b[37m\u001b[0m \u001b[1m0s\u001b[0m 61ms/step - accuracy: 0.5000 - loss: 0.6760\n",
            "Epoch 19/25\n",
            "\u001b[1m1/1\u001b[0m \u001b[32m━━━━━━━━━━━━━━━━━━━━\u001b[0m\u001b[37m\u001b[0m \u001b[1m0s\u001b[0m 59ms/step - accuracy: 0.5000 - loss: 0.6756\n",
            "Epoch 20/25\n",
            "\u001b[1m1/1\u001b[0m \u001b[32m━━━━━━━━━━━━━━━━━━━━\u001b[0m\u001b[37m\u001b[0m \u001b[1m0s\u001b[0m 51ms/step - accuracy: 0.5000 - loss: 0.6752\n",
            "Epoch 21/25\n",
            "\u001b[1m1/1\u001b[0m \u001b[32m━━━━━━━━━━━━━━━━━━━━\u001b[0m\u001b[37m\u001b[0m \u001b[1m0s\u001b[0m 74ms/step - accuracy: 0.5000 - loss: 0.6748\n",
            "Epoch 22/25\n",
            "\u001b[1m1/1\u001b[0m \u001b[32m━━━━━━━━━━━━━━━━━━━━\u001b[0m\u001b[37m\u001b[0m \u001b[1m0s\u001b[0m 49ms/step - accuracy: 0.5000 - loss: 0.6744\n",
            "Epoch 23/25\n",
            "\u001b[1m1/1\u001b[0m \u001b[32m━━━━━━━━━━━━━━━━━━━━\u001b[0m\u001b[37m\u001b[0m \u001b[1m0s\u001b[0m 50ms/step - accuracy: 0.5000 - loss: 0.6740\n",
            "Epoch 24/25\n",
            "\u001b[1m1/1\u001b[0m \u001b[32m━━━━━━━━━━━━━━━━━━━━\u001b[0m\u001b[37m\u001b[0m \u001b[1m0s\u001b[0m 47ms/step - accuracy: 0.5000 - loss: 0.6736\n",
            "Epoch 25/25\n",
            "\u001b[1m1/1\u001b[0m \u001b[32m━━━━━━━━━━━━━━━━━━━━\u001b[0m\u001b[37m\u001b[0m \u001b[1m0s\u001b[0m 52ms/step - accuracy: 0.5000 - loss: 0.6731\n",
            "Predictions:\n"
          ]
        },
        {
          "output_type": "stream",
          "name": "stderr",
          "text": [
            "WARNING:tensorflow:6 out of the last 6 calls to <function TensorFlowTrainer.make_predict_function.<locals>.one_step_on_data_distributed at 0x7b3a8abb7600> triggered tf.function retracing. Tracing is expensive and the excessive number of tracings could be due to (1) creating @tf.function repeatedly in a loop, (2) passing tensors with different shapes, (3) passing Python objects instead of tensors. For (1), please define your @tf.function outside of the loop. For (2), @tf.function has reduce_retracing=True option that can avoid unnecessary retracing. For (3), please refer to https://www.tensorflow.org/guide/function#controlling_retracing and https://www.tensorflow.org/api_docs/python/tf/function for  more details.\n"
          ]
        },
        {
          "output_type": "stream",
          "name": "stdout",
          "text": [
            "\u001b[1m1/1\u001b[0m \u001b[32m━━━━━━━━━━━━━━━━━━━━\u001b[0m\u001b[37m\u001b[0m \u001b[1m0s\u001b[0m 48ms/step\n",
            "[[0.49376357]\n",
            " [0.5257095 ]\n",
            " [0.41951233]\n",
            " [0.4865104 ]]\n"
          ]
        }
      ]
    },
    {
      "cell_type": "markdown",
      "source": [
        "**Q4.How can you apply different activation functions in a neural network in Keras?**"
      ],
      "metadata": {
        "id": "hPGTmlajV99h"
      }
    },
    {
      "cell_type": "code",
      "source": [
        "import numpy as np\n",
        "from tensorflow.keras.models import Sequential\n",
        "from tensorflow.keras.layers import Dense\n",
        "\n",
        "# Step 1: Create the model\n",
        "model = Sequential()\n",
        "\n",
        "# Step 2: Add hidden layers with different activation functions\n",
        "model.add(Dense(units=4, activation='relu', input_shape=(2,)))       # ReLU\n",
        "model.add(Dense(units=3, activation='tanh'))                          # Tanh\n",
        "model.add(Dense(units=2, activation='sigmoid'))                       # Sigmoid\n",
        "\n",
        "# Step 3: Add output layer\n",
        "model.add(Dense(units=1, activation='sigmoid'))                       # Binary output\n",
        "\n",
        "# Step 4: Compile the model\n",
        "model.compile(optimizer='adam', loss='binary_crossentropy', metrics=['accuracy'])\n",
        "\n",
        "# Step 5: Input and output data (AND gate)\n",
        "X = np.array([[0,0],[0,1],[1,0],[1,1]])\n",
        "y = np.array([0,0,0,1])\n",
        "\n",
        "# Step 6: Train the model\n",
        "model.fit(X, y, epochs=25)\n",
        "\n",
        "# Step 7: Predict\n",
        "print(\"Predictions:\")\n",
        "print(model.predict(X))\n"
      ],
      "metadata": {
        "colab": {
          "base_uri": "https://localhost:8080/"
        },
        "id": "XbHf_gJWVRw1",
        "outputId": "2af3337f-0dfa-4e19-8eef-95d9f2d69faf"
      },
      "execution_count": 10,
      "outputs": [
        {
          "output_type": "stream",
          "name": "stdout",
          "text": [
            "Epoch 1/25\n",
            "\u001b[1m1/1\u001b[0m \u001b[32m━━━━━━━━━━━━━━━━━━━━\u001b[0m\u001b[37m\u001b[0m \u001b[1m1s\u001b[0m 1s/step - accuracy: 0.2500 - loss: 0.9357\n",
            "Epoch 2/25\n",
            "\u001b[1m1/1\u001b[0m \u001b[32m━━━━━━━━━━━━━━━━━━━━\u001b[0m\u001b[37m\u001b[0m \u001b[1m0s\u001b[0m 62ms/step - accuracy: 0.2500 - loss: 0.9342\n",
            "Epoch 3/25\n",
            "\u001b[1m1/1\u001b[0m \u001b[32m━━━━━━━━━━━━━━━━━━━━\u001b[0m\u001b[37m\u001b[0m \u001b[1m0s\u001b[0m 62ms/step - accuracy: 0.2500 - loss: 0.9328\n",
            "Epoch 4/25\n",
            "\u001b[1m1/1\u001b[0m \u001b[32m━━━━━━━━━━━━━━━━━━━━\u001b[0m\u001b[37m\u001b[0m \u001b[1m0s\u001b[0m 61ms/step - accuracy: 0.2500 - loss: 0.9313\n",
            "Epoch 5/25\n",
            "\u001b[1m1/1\u001b[0m \u001b[32m━━━━━━━━━━━━━━━━━━━━\u001b[0m\u001b[37m\u001b[0m \u001b[1m0s\u001b[0m 36ms/step - accuracy: 0.2500 - loss: 0.9298\n",
            "Epoch 6/25\n",
            "\u001b[1m1/1\u001b[0m \u001b[32m━━━━━━━━━━━━━━━━━━━━\u001b[0m\u001b[37m\u001b[0m \u001b[1m0s\u001b[0m 59ms/step - accuracy: 0.2500 - loss: 0.9283\n",
            "Epoch 7/25\n",
            "\u001b[1m1/1\u001b[0m \u001b[32m━━━━━━━━━━━━━━━━━━━━\u001b[0m\u001b[37m\u001b[0m \u001b[1m0s\u001b[0m 37ms/step - accuracy: 0.2500 - loss: 0.9269\n",
            "Epoch 8/25\n",
            "\u001b[1m1/1\u001b[0m \u001b[32m━━━━━━━━━━━━━━━━━━━━\u001b[0m\u001b[37m\u001b[0m \u001b[1m0s\u001b[0m 58ms/step - accuracy: 0.2500 - loss: 0.9254\n",
            "Epoch 9/25\n",
            "\u001b[1m1/1\u001b[0m \u001b[32m━━━━━━━━━━━━━━━━━━━━\u001b[0m\u001b[37m\u001b[0m \u001b[1m0s\u001b[0m 61ms/step - accuracy: 0.2500 - loss: 0.9239\n",
            "Epoch 10/25\n",
            "\u001b[1m1/1\u001b[0m \u001b[32m━━━━━━━━━━━━━━━━━━━━\u001b[0m\u001b[37m\u001b[0m \u001b[1m0s\u001b[0m 59ms/step - accuracy: 0.2500 - loss: 0.9225\n",
            "Epoch 11/25\n",
            "\u001b[1m1/1\u001b[0m \u001b[32m━━━━━━━━━━━━━━━━━━━━\u001b[0m\u001b[37m\u001b[0m \u001b[1m0s\u001b[0m 34ms/step - accuracy: 0.2500 - loss: 0.9210\n",
            "Epoch 12/25\n",
            "\u001b[1m1/1\u001b[0m \u001b[32m━━━━━━━━━━━━━━━━━━━━\u001b[0m\u001b[37m\u001b[0m \u001b[1m0s\u001b[0m 60ms/step - accuracy: 0.2500 - loss: 0.9195\n",
            "Epoch 13/25\n",
            "\u001b[1m1/1\u001b[0m \u001b[32m━━━━━━━━━━━━━━━━━━━━\u001b[0m\u001b[37m\u001b[0m \u001b[1m0s\u001b[0m 34ms/step - accuracy: 0.2500 - loss: 0.9181\n",
            "Epoch 14/25\n",
            "\u001b[1m1/1\u001b[0m \u001b[32m━━━━━━━━━━━━━━━━━━━━\u001b[0m\u001b[37m\u001b[0m \u001b[1m0s\u001b[0m 59ms/step - accuracy: 0.2500 - loss: 0.9166\n",
            "Epoch 15/25\n",
            "\u001b[1m1/1\u001b[0m \u001b[32m━━━━━━━━━━━━━━━━━━━━\u001b[0m\u001b[37m\u001b[0m \u001b[1m0s\u001b[0m 63ms/step - accuracy: 0.2500 - loss: 0.9152\n",
            "Epoch 16/25\n",
            "\u001b[1m1/1\u001b[0m \u001b[32m━━━━━━━━━━━━━━━━━━━━\u001b[0m\u001b[37m\u001b[0m \u001b[1m0s\u001b[0m 34ms/step - accuracy: 0.2500 - loss: 0.9137\n",
            "Epoch 17/25\n",
            "\u001b[1m1/1\u001b[0m \u001b[32m━━━━━━━━━━━━━━━━━━━━\u001b[0m\u001b[37m\u001b[0m \u001b[1m0s\u001b[0m 32ms/step - accuracy: 0.2500 - loss: 0.9123\n",
            "Epoch 18/25\n",
            "\u001b[1m1/1\u001b[0m \u001b[32m━━━━━━━━━━━━━━━━━━━━\u001b[0m\u001b[37m\u001b[0m \u001b[1m0s\u001b[0m 63ms/step - accuracy: 0.2500 - loss: 0.9108\n",
            "Epoch 19/25\n",
            "\u001b[1m1/1\u001b[0m \u001b[32m━━━━━━━━━━━━━━━━━━━━\u001b[0m\u001b[37m\u001b[0m \u001b[1m0s\u001b[0m 36ms/step - accuracy: 0.2500 - loss: 0.9094\n",
            "Epoch 20/25\n",
            "\u001b[1m1/1\u001b[0m \u001b[32m━━━━━━━━━━━━━━━━━━━━\u001b[0m\u001b[37m\u001b[0m \u001b[1m0s\u001b[0m 37ms/step - accuracy: 0.2500 - loss: 0.9080\n",
            "Epoch 21/25\n",
            "\u001b[1m1/1\u001b[0m \u001b[32m━━━━━━━━━━━━━━━━━━━━\u001b[0m\u001b[37m\u001b[0m \u001b[1m0s\u001b[0m 35ms/step - accuracy: 0.2500 - loss: 0.9065\n",
            "Epoch 22/25\n",
            "\u001b[1m1/1\u001b[0m \u001b[32m━━━━━━━━━━━━━━━━━━━━\u001b[0m\u001b[37m\u001b[0m \u001b[1m0s\u001b[0m 67ms/step - accuracy: 0.2500 - loss: 0.9051\n",
            "Epoch 23/25\n",
            "\u001b[1m1/1\u001b[0m \u001b[32m━━━━━━━━━━━━━━━━━━━━\u001b[0m\u001b[37m\u001b[0m \u001b[1m0s\u001b[0m 56ms/step - accuracy: 0.2500 - loss: 0.9037\n",
            "Epoch 24/25\n",
            "\u001b[1m1/1\u001b[0m \u001b[32m━━━━━━━━━━━━━━━━━━━━\u001b[0m\u001b[37m\u001b[0m \u001b[1m0s\u001b[0m 61ms/step - accuracy: 0.2500 - loss: 0.9023\n",
            "Epoch 25/25\n",
            "\u001b[1m1/1\u001b[0m \u001b[32m━━━━━━━━━━━━━━━━━━━━\u001b[0m\u001b[37m\u001b[0m \u001b[1m0s\u001b[0m 58ms/step - accuracy: 0.2500 - loss: 0.9009\n",
            "Predictions:\n",
            "\u001b[1m1/1\u001b[0m \u001b[32m━━━━━━━━━━━━━━━━━━━━\u001b[0m\u001b[37m\u001b[0m \u001b[1m0s\u001b[0m 58ms/step\n",
            "[[0.6552277 ]\n",
            " [0.6490362 ]\n",
            " [0.6473592 ]\n",
            " [0.64174026]]\n"
          ]
        }
      ]
    },
    {
      "cell_type": "markdown",
      "source": [
        "\n",
        "**Q5.How do you add dropout to a neural network model to prevent overfitting?**"
      ],
      "metadata": {
        "id": "An4pfUvaWnNP"
      }
    },
    {
      "cell_type": "code",
      "source": [
        "import numpy as np\n",
        "from tensorflow.keras.models import Sequential\n",
        "from tensorflow.keras.layers import Dense, Dropout\n",
        "\n",
        "# Step 1: Create model\n",
        "model = Sequential()\n",
        "\n",
        "# Step 2: Add input and hidden layer with dropout\n",
        "model.add(Dense(units=8, activation='relu', input_shape=(2,)))\n",
        "model.add(Dropout(0.3))  # Dropout 30% neurons\n",
        "\n",
        "# Step 3: Add another hidden layer\n",
        "model.add(Dense(units=4, activation='relu'))\n",
        "model.add(Dropout(0.2))  # Dropout 20% neurons\n",
        "\n",
        "# Step 4: Add output layer\n",
        "model.add(Dense(units=1, activation='sigmoid'))\n",
        "\n",
        "# Step 5: Compile the model\n",
        "model.compile(optimizer='adam', loss='binary_crossentropy', metrics=['accuracy'])\n",
        "\n",
        "# Step 6: Data\n",
        "X = np.array([[0,0],[0,1],[1,0],[1,1]])\n",
        "y = np.array([0, 0, 0, 1])\n",
        "\n",
        "# Step 7: Train the model\n",
        "model.fit(X, y, epochs=25)\n",
        "\n",
        "# Step 8: Predictions\n",
        "print(\"Predictions:\")\n",
        "print(model.predict(X))\n"
      ],
      "metadata": {
        "colab": {
          "base_uri": "https://localhost:8080/"
        },
        "id": "fmMpuZzEWI5w",
        "outputId": "df7467b1-e5e2-46c1-a865-70c8ca0e1aef"
      },
      "execution_count": 13,
      "outputs": [
        {
          "output_type": "stream",
          "name": "stdout",
          "text": [
            "Epoch 1/25\n",
            "\u001b[1m1/1\u001b[0m \u001b[32m━━━━━━━━━━━━━━━━━━━━\u001b[0m\u001b[37m\u001b[0m \u001b[1m1s\u001b[0m 1s/step - accuracy: 0.5000 - loss: 0.6942\n",
            "Epoch 2/25\n",
            "\u001b[1m1/1\u001b[0m \u001b[32m━━━━━━━━━━━━━━━━━━━━\u001b[0m\u001b[37m\u001b[0m \u001b[1m0s\u001b[0m 45ms/step - accuracy: 0.5000 - loss: 0.7047\n",
            "Epoch 3/25\n",
            "\u001b[1m1/1\u001b[0m \u001b[32m━━━━━━━━━━━━━━━━━━━━\u001b[0m\u001b[37m\u001b[0m \u001b[1m0s\u001b[0m 56ms/step - accuracy: 0.7500 - loss: 0.6936\n",
            "Epoch 4/25\n",
            "\u001b[1m1/1\u001b[0m \u001b[32m━━━━━━━━━━━━━━━━━━━━\u001b[0m\u001b[37m\u001b[0m \u001b[1m0s\u001b[0m 38ms/step - accuracy: 0.7500 - loss: 0.6940\n",
            "Epoch 5/25\n",
            "\u001b[1m1/1\u001b[0m \u001b[32m━━━━━━━━━━━━━━━━━━━━\u001b[0m\u001b[37m\u001b[0m \u001b[1m0s\u001b[0m 45ms/step - accuracy: 0.7500 - loss: 0.6864\n",
            "Epoch 6/25\n",
            "\u001b[1m1/1\u001b[0m \u001b[32m━━━━━━━━━━━━━━━━━━━━\u001b[0m\u001b[37m\u001b[0m \u001b[1m0s\u001b[0m 53ms/step - accuracy: 0.2500 - loss: 0.7151\n",
            "Epoch 7/25\n",
            "\u001b[1m1/1\u001b[0m \u001b[32m━━━━━━━━━━━━━━━━━━━━\u001b[0m\u001b[37m\u001b[0m \u001b[1m0s\u001b[0m 52ms/step - accuracy: 0.2500 - loss: 0.7298\n",
            "Epoch 8/25\n",
            "\u001b[1m1/1\u001b[0m \u001b[32m━━━━━━━━━━━━━━━━━━━━\u001b[0m\u001b[37m\u001b[0m \u001b[1m0s\u001b[0m 42ms/step - accuracy: 0.7500 - loss: 0.6925\n",
            "Epoch 9/25\n",
            "\u001b[1m1/1\u001b[0m \u001b[32m━━━━━━━━━━━━━━━━━━━━\u001b[0m\u001b[37m\u001b[0m \u001b[1m0s\u001b[0m 65ms/step - accuracy: 0.7500 - loss: 0.6841\n",
            "Epoch 10/25\n",
            "\u001b[1m1/1\u001b[0m \u001b[32m━━━━━━━━━━━━━━━━━━━━\u001b[0m\u001b[37m\u001b[0m \u001b[1m0s\u001b[0m 55ms/step - accuracy: 0.5000 - loss: 0.6929\n",
            "Epoch 11/25\n",
            "\u001b[1m1/1\u001b[0m \u001b[32m━━━━━━━━━━━━━━━━━━━━\u001b[0m\u001b[37m\u001b[0m \u001b[1m0s\u001b[0m 48ms/step - accuracy: 0.5000 - loss: 0.7374\n",
            "Epoch 12/25\n",
            "\u001b[1m1/1\u001b[0m \u001b[32m━━━━━━━━━━━━━━━━━━━━\u001b[0m\u001b[37m\u001b[0m \u001b[1m0s\u001b[0m 48ms/step - accuracy: 0.5000 - loss: 0.7328\n",
            "Epoch 13/25\n",
            "\u001b[1m1/1\u001b[0m \u001b[32m━━━━━━━━━━━━━━━━━━━━\u001b[0m\u001b[37m\u001b[0m \u001b[1m0s\u001b[0m 61ms/step - accuracy: 0.7500 - loss: 0.6912\n",
            "Epoch 14/25\n",
            "\u001b[1m1/1\u001b[0m \u001b[32m━━━━━━━━━━━━━━━━━━━━\u001b[0m\u001b[37m\u001b[0m \u001b[1m0s\u001b[0m 51ms/step - accuracy: 0.7500 - loss: 0.6923\n",
            "Epoch 15/25\n",
            "\u001b[1m1/1\u001b[0m \u001b[32m━━━━━━━━━━━━━━━━━━━━\u001b[0m\u001b[37m\u001b[0m \u001b[1m0s\u001b[0m 51ms/step - accuracy: 0.7500 - loss: 0.6881\n",
            "Epoch 16/25\n",
            "\u001b[1m1/1\u001b[0m \u001b[32m━━━━━━━━━━━━━━━━━━━━\u001b[0m\u001b[37m\u001b[0m \u001b[1m0s\u001b[0m 63ms/step - accuracy: 0.7500 - loss: 0.6874\n",
            "Epoch 17/25\n",
            "\u001b[1m1/1\u001b[0m \u001b[32m━━━━━━━━━━━━━━━━━━━━\u001b[0m\u001b[37m\u001b[0m \u001b[1m0s\u001b[0m 60ms/step - accuracy: 0.7500 - loss: 0.6912\n",
            "Epoch 18/25\n",
            "\u001b[1m1/1\u001b[0m \u001b[32m━━━━━━━━━━━━━━━━━━━━\u001b[0m\u001b[37m\u001b[0m \u001b[1m0s\u001b[0m 62ms/step - accuracy: 0.7500 - loss: 0.6847\n",
            "Epoch 19/25\n",
            "\u001b[1m1/1\u001b[0m \u001b[32m━━━━━━━━━━━━━━━━━━━━\u001b[0m\u001b[37m\u001b[0m \u001b[1m0s\u001b[0m 59ms/step - accuracy: 0.7500 - loss: 0.6686\n",
            "Epoch 20/25\n",
            "\u001b[1m1/1\u001b[0m \u001b[32m━━━━━━━━━━━━━━━━━━━━\u001b[0m\u001b[37m\u001b[0m \u001b[1m0s\u001b[0m 36ms/step - accuracy: 0.7500 - loss: 0.6915\n",
            "Epoch 21/25\n",
            "\u001b[1m1/1\u001b[0m \u001b[32m━━━━━━━━━━━━━━━━━━━━\u001b[0m\u001b[37m\u001b[0m \u001b[1m0s\u001b[0m 39ms/step - accuracy: 0.7500 - loss: 0.6926\n",
            "Epoch 22/25\n",
            "\u001b[1m1/1\u001b[0m \u001b[32m━━━━━━━━━━━━━━━━━━━━\u001b[0m\u001b[37m\u001b[0m \u001b[1m0s\u001b[0m 34ms/step - accuracy: 0.7500 - loss: 0.6836\n",
            "Epoch 23/25\n",
            "\u001b[1m1/1\u001b[0m \u001b[32m━━━━━━━━━━━━━━━━━━━━\u001b[0m\u001b[37m\u001b[0m \u001b[1m0s\u001b[0m 36ms/step - accuracy: 0.7500 - loss: 0.6872\n",
            "Epoch 24/25\n",
            "\u001b[1m1/1\u001b[0m \u001b[32m━━━━━━━━━━━━━━━━━━━━\u001b[0m\u001b[37m\u001b[0m \u001b[1m0s\u001b[0m 64ms/step - accuracy: 0.7500 - loss: 0.6884\n",
            "Epoch 25/25\n",
            "\u001b[1m1/1\u001b[0m \u001b[32m━━━━━━━━━━━━━━━━━━━━\u001b[0m\u001b[37m\u001b[0m \u001b[1m0s\u001b[0m 42ms/step - accuracy: 0.7500 - loss: 0.6842\n",
            "Predictions:\n",
            "\u001b[1m1/1\u001b[0m \u001b[32m━━━━━━━━━━━━━━━━━━━━\u001b[0m\u001b[37m\u001b[0m \u001b[1m0s\u001b[0m 57ms/step\n",
            "[[0.4935969 ]\n",
            " [0.4937658 ]\n",
            " [0.49030095]\n",
            " [0.49182522]]\n"
          ]
        }
      ]
    },
    {
      "cell_type": "markdown",
      "source": [
        "**Q6.How do you manually implement forward propagation in a simple neural network?**"
      ],
      "metadata": {
        "id": "L60hpi8lZiyA"
      }
    },
    {
      "cell_type": "code",
      "source": [
        "import numpy as np\n",
        "\n",
        "# Sigmoid activation function\n",
        "def sigmoid(x):\n",
        "    return 1 / (1 + np.exp(-x))\n",
        "\n",
        "# Input data (2 features)\n",
        "X = np.array([1.0, 0.5])  # shape: (2,)\n",
        "\n",
        "# Weights for hidden layer (2 inputs → 3 neurons)\n",
        "W1 = np.array([\n",
        "    [0.2, 0.4, 0.6],\n",
        "    [0.5, 0.3, 0.9]\n",
        "])  # shape: (2, 3)\n",
        "\n",
        "# Bias for hidden layer (1 bias per neuron)\n",
        "b1 = np.array([0.1, 0.2, 0.3])  # shape: (3,)\n",
        "\n",
        "# Forward propagation to hidden layer\n",
        "z1 = np.dot(X, W1) + b1\n",
        "a1 = sigmoid(z1)\n",
        "\n",
        "# Weights for output layer (3 neurons → 1 output)\n",
        "W2 = np.array([0.7, 0.8, 0.9])  # shape: (3,)\n",
        "b2 = 0.5\n",
        "\n",
        "# Forward propagation to output layer\n",
        "z2 = np.dot(a1, W2) + b2\n",
        "output = sigmoid(z2)\n",
        "\n",
        "print(\"Final Output:\", output)\n"
      ],
      "metadata": {
        "colab": {
          "base_uri": "https://localhost:8080/"
        },
        "id": "AXu4XfJzXVl7",
        "outputId": "980d496e-a24b-4dc9-ab58-473a6398b1e4"
      },
      "execution_count": 1,
      "outputs": [
        {
          "output_type": "stream",
          "name": "stdout",
          "text": [
            "Final Output: 0.9004248918173082\n"
          ]
        }
      ]
    },
    {
      "cell_type": "markdown",
      "source": [
        "**Q7.How do you add batch normalization to a neural network model in Keras?**"
      ],
      "metadata": {
        "id": "miBc_h4Jt-bL"
      }
    },
    {
      "cell_type": "code",
      "source": [
        "import numpy as np\n",
        "from tensorflow.keras.models import Sequential\n",
        "from tensorflow.keras.layers import Dense, BatchNormalization, Activation\n",
        "\n",
        "# Step 1: Define the model\n",
        "model = Sequential()\n",
        "\n",
        "# Step 2: Add Dense layer\n",
        "model.add(Dense(8, input_shape=(2,)))\n",
        "\n",
        "# Step 3: Add Batch Normalization\n",
        "model.add(BatchNormalization())\n",
        "\n",
        "# Step 4: Add Activation separately\n",
        "model.add(Activation('relu'))\n",
        "\n",
        "# Step 5: Add another layer with batch norm\n",
        "model.add(Dense(4))\n",
        "model.add(BatchNormalization())\n",
        "model.add(Activation('relu'))\n",
        "\n",
        "# Step 6: Output layer\n",
        "model.add(Dense(1, activation='sigmoid'))\n",
        "\n",
        "# Step 7: Compile the model\n",
        "model.compile(optimizer='adam', loss='binary_crossentropy', metrics=['accuracy'])\n",
        "\n",
        "# Step 8: Input data\n",
        "X = np.array([[0,0],[0,1],[1,0],[1,1]])\n",
        "y = np.array([0, 0, 0, 1])\n",
        "\n",
        "# Step 9: Train the model\n",
        "model.fit(X, y, epochs=25)\n",
        "\n",
        "# Step 10: Predict\n",
        "print(\"Predictions:\")\n",
        "print(model.predict(X))\n"
      ],
      "metadata": {
        "colab": {
          "base_uri": "https://localhost:8080/"
        },
        "id": "F2I0M0oMZt5k",
        "outputId": "f926a6f1-3edc-4ed0-ce54-40cb27475a62"
      },
      "execution_count": 3,
      "outputs": [
        {
          "output_type": "stream",
          "name": "stdout",
          "text": [
            "Epoch 1/25\n",
            "\u001b[1m1/1\u001b[0m \u001b[32m━━━━━━━━━━━━━━━━━━━━\u001b[0m\u001b[37m\u001b[0m \u001b[1m2s\u001b[0m 2s/step - accuracy: 0.2500 - loss: 1.1218\n",
            "Epoch 2/25\n",
            "\u001b[1m1/1\u001b[0m \u001b[32m━━━━━━━━━━━━━━━━━━━━\u001b[0m\u001b[37m\u001b[0m \u001b[1m0s\u001b[0m 53ms/step - accuracy: 0.2500 - loss: 1.1118\n",
            "Epoch 3/25\n",
            "\u001b[1m1/1\u001b[0m \u001b[32m━━━━━━━━━━━━━━━━━━━━\u001b[0m\u001b[37m\u001b[0m \u001b[1m0s\u001b[0m 65ms/step - accuracy: 0.2500 - loss: 1.1016\n",
            "Epoch 4/25\n",
            "\u001b[1m1/1\u001b[0m \u001b[32m━━━━━━━━━━━━━━━━━━━━\u001b[0m\u001b[37m\u001b[0m \u001b[1m0s\u001b[0m 60ms/step - accuracy: 0.2500 - loss: 1.0911\n",
            "Epoch 5/25\n",
            "\u001b[1m1/1\u001b[0m \u001b[32m━━━━━━━━━━━━━━━━━━━━\u001b[0m\u001b[37m\u001b[0m \u001b[1m0s\u001b[0m 79ms/step - accuracy: 0.2500 - loss: 1.0769\n",
            "Epoch 6/25\n",
            "\u001b[1m1/1\u001b[0m \u001b[32m━━━━━━━━━━━━━━━━━━━━\u001b[0m\u001b[37m\u001b[0m \u001b[1m0s\u001b[0m 78ms/step - accuracy: 0.2500 - loss: 1.0603\n",
            "Epoch 7/25\n",
            "\u001b[1m1/1\u001b[0m \u001b[32m━━━━━━━━━━━━━━━━━━━━\u001b[0m\u001b[37m\u001b[0m \u001b[1m0s\u001b[0m 85ms/step - accuracy: 0.2500 - loss: 1.0438\n",
            "Epoch 8/25\n",
            "\u001b[1m1/1\u001b[0m \u001b[32m━━━━━━━━━━━━━━━━━━━━\u001b[0m\u001b[37m\u001b[0m \u001b[1m0s\u001b[0m 146ms/step - accuracy: 0.2500 - loss: 1.0274\n",
            "Epoch 9/25\n",
            "\u001b[1m1/1\u001b[0m \u001b[32m━━━━━━━━━━━━━━━━━━━━\u001b[0m\u001b[37m\u001b[0m \u001b[1m0s\u001b[0m 72ms/step - accuracy: 0.2500 - loss: 1.0110\n",
            "Epoch 10/25\n",
            "\u001b[1m1/1\u001b[0m \u001b[32m━━━━━━━━━━━━━━━━━━━━\u001b[0m\u001b[37m\u001b[0m \u001b[1m0s\u001b[0m 138ms/step - accuracy: 0.2500 - loss: 0.9948\n",
            "Epoch 11/25\n",
            "\u001b[1m1/1\u001b[0m \u001b[32m━━━━━━━━━━━━━━━━━━━━\u001b[0m\u001b[37m\u001b[0m \u001b[1m0s\u001b[0m 142ms/step - accuracy: 0.2500 - loss: 0.9797\n",
            "Epoch 12/25\n",
            "\u001b[1m1/1\u001b[0m \u001b[32m━━━━━━━━━━━━━━━━━━━━\u001b[0m\u001b[37m\u001b[0m \u001b[1m0s\u001b[0m 81ms/step - accuracy: 0.2500 - loss: 0.9678\n",
            "Epoch 13/25\n",
            "\u001b[1m1/1\u001b[0m \u001b[32m━━━━━━━━━━━━━━━━━━━━\u001b[0m\u001b[37m\u001b[0m \u001b[1m0s\u001b[0m 161ms/step - accuracy: 0.2500 - loss: 0.9559\n",
            "Epoch 14/25\n",
            "\u001b[1m1/1\u001b[0m \u001b[32m━━━━━━━━━━━━━━━━━━━━\u001b[0m\u001b[37m\u001b[0m \u001b[1m0s\u001b[0m 74ms/step - accuracy: 0.2500 - loss: 0.9442\n",
            "Epoch 15/25\n",
            "\u001b[1m1/1\u001b[0m \u001b[32m━━━━━━━━━━━━━━━━━━━━\u001b[0m\u001b[37m\u001b[0m \u001b[1m0s\u001b[0m 137ms/step - accuracy: 0.2500 - loss: 0.9325\n",
            "Epoch 16/25\n",
            "\u001b[1m1/1\u001b[0m \u001b[32m━━━━━━━━━━━━━━━━━━━━\u001b[0m\u001b[37m\u001b[0m \u001b[1m0s\u001b[0m 139ms/step - accuracy: 0.2500 - loss: 0.9211\n",
            "Epoch 17/25\n",
            "\u001b[1m1/1\u001b[0m \u001b[32m━━━━━━━━━━━━━━━━━━━━\u001b[0m\u001b[37m\u001b[0m \u001b[1m0s\u001b[0m 149ms/step - accuracy: 0.2500 - loss: 0.9098\n",
            "Epoch 18/25\n",
            "\u001b[1m1/1\u001b[0m \u001b[32m━━━━━━━━━━━━━━━━━━━━\u001b[0m\u001b[37m\u001b[0m \u001b[1m0s\u001b[0m 141ms/step - accuracy: 0.2500 - loss: 0.8987\n",
            "Epoch 19/25\n",
            "\u001b[1m1/1\u001b[0m \u001b[32m━━━━━━━━━━━━━━━━━━━━\u001b[0m\u001b[37m\u001b[0m \u001b[1m0s\u001b[0m 132ms/step - accuracy: 0.2500 - loss: 0.8877\n",
            "Epoch 20/25\n",
            "\u001b[1m1/1\u001b[0m \u001b[32m━━━━━━━━━━━━━━━━━━━━\u001b[0m\u001b[37m\u001b[0m \u001b[1m0s\u001b[0m 133ms/step - accuracy: 0.2500 - loss: 0.8769\n",
            "Epoch 21/25\n",
            "\u001b[1m1/1\u001b[0m \u001b[32m━━━━━━━━━━━━━━━━━━━━\u001b[0m\u001b[37m\u001b[0m \u001b[1m0s\u001b[0m 95ms/step - accuracy: 0.2500 - loss: 0.8663\n",
            "Epoch 22/25\n",
            "\u001b[1m1/1\u001b[0m \u001b[32m━━━━━━━━━━━━━━━━━━━━\u001b[0m\u001b[37m\u001b[0m \u001b[1m0s\u001b[0m 126ms/step - accuracy: 0.2500 - loss: 0.8558\n",
            "Epoch 23/25\n",
            "\u001b[1m1/1\u001b[0m \u001b[32m━━━━━━━━━━━━━━━━━━━━\u001b[0m\u001b[37m\u001b[0m \u001b[1m0s\u001b[0m 117ms/step - accuracy: 0.2500 - loss: 0.8455\n",
            "Epoch 24/25\n",
            "\u001b[1m1/1\u001b[0m \u001b[32m━━━━━━━━━━━━━━━━━━━━\u001b[0m\u001b[37m\u001b[0m \u001b[1m0s\u001b[0m 58ms/step - accuracy: 0.2500 - loss: 0.8353\n",
            "Epoch 25/25\n",
            "\u001b[1m1/1\u001b[0m \u001b[32m━━━━━━━━━━━━━━━━━━━━\u001b[0m\u001b[37m\u001b[0m \u001b[1m0s\u001b[0m 53ms/step - accuracy: 0.5000 - loss: 0.8252\n",
            "Predictions:\n",
            "\u001b[1m1/1\u001b[0m \u001b[32m━━━━━━━━━━━━━━━━━━━━\u001b[0m\u001b[37m\u001b[0m \u001b[1m0s\u001b[0m 110ms/step\n",
            "[[0.49307486]\n",
            " [0.7212281 ]\n",
            " [0.49244416]\n",
            " [0.71919304]]\n"
          ]
        }
      ]
    },
    {
      "cell_type": "markdown",
      "source": [
        "**Q8.How can you visualize the training process with accuracy and loss curves?**"
      ],
      "metadata": {
        "id": "Adl33TqfuXBE"
      }
    },
    {
      "cell_type": "code",
      "source": [
        "import numpy as np\n",
        "import matplotlib.pyplot as plt\n",
        "from tensorflow.keras.models import Sequential\n",
        "from tensorflow.keras.layers import Dense\n",
        "\n",
        "# Step 1: Define model\n",
        "model = Sequential()\n",
        "model.add(Dense(8, input_shape=(2,), activation='relu'))\n",
        "model.add(Dense(1, activation='sigmoid'))\n",
        "\n",
        "# Step 2: Compile model\n",
        "model.compile(optimizer='adam', loss='binary_crossentropy', metrics=['accuracy'])\n",
        "\n",
        "# Step 3: Data\n",
        "X = np.array([[0,0],[0,1],[1,0],[1,1]])\n",
        "y = np.array([0,0,0,1])\n",
        "\n",
        "# Step 4: Train and store history\n",
        "history = model.fit(X, y, epochs=100, verbose=0)\n",
        "\n",
        "# Step 5: Plot accuracy\n",
        "plt.plot(history.history['accuracy'], label='Accuracy')\n",
        "plt.plot(history.history['loss'], label='Loss')\n",
        "plt.title('Training Accuracy and Loss')\n",
        "plt.xlabel('Epoch')\n",
        "plt.ylabel('Value')\n",
        "plt.legend()\n",
        "plt.grid(True)\n",
        "plt.show()\n"
      ],
      "metadata": {
        "colab": {
          "base_uri": "https://localhost:8080/",
          "height": 472
        },
        "id": "Vl7FJWY0ufai",
        "outputId": "98749ab1-dcd3-4191-f911-9eb733eae708"
      },
      "execution_count": 4,
      "outputs": [
        {
          "output_type": "display_data",
          "data": {
            "text/plain": [
              "<Figure size 640x480 with 1 Axes>"
            ],
            "image/png": "[encoded data removed]"
          },
          "metadata": {}
        }
      ]
    },
    {
      "cell_type": "markdown",
      "source": [
        "**Q9.How can you use gradient clipping in Keras to control the gradient size and prevent exploding gradients?**"
      ],
      "metadata": {
        "id": "fC9r0C4OuqJU"
      }
    },
    {
      "cell_type": "code",
      "source": [
        "import numpy as np\n",
        "from tensorflow.keras.models import Sequential\n",
        "from tensorflow.keras.layers import Dense\n",
        "from tensorflow.keras.optimizers import Adam\n",
        "\n",
        "# Step 1: Define the model\n",
        "model = Sequential()\n",
        "model.add(Dense(16, input_shape=(2,), activation='relu'))\n",
        "model.add(Dense(1, activation='sigmoid'))\n",
        "\n",
        "# Step 2: Use Adam optimizer with gradient clipping\n",
        "optimizer = Adam(learning_rate=0.01, clipvalue=1.0)  # Clip gradients to ±1.0\n",
        "\n",
        "# Step 3: Compile the model\n",
        "model.compile(optimizer=optimizer, loss='binary_crossentropy', metrics=['accuracy'])\n",
        "\n",
        "# Step 4: Input and output data\n",
        "X = np.array([[0,0], [0,1], [1,0], [1,1]])\n",
        "y = np.array([0, 0, 0, 1])\n",
        "\n",
        "# Step 5: Train the model\n",
        "model.fit(X, y, epochs=25)\n"
      ],
      "metadata": {
        "colab": {
          "base_uri": "https://localhost:8080/"
        },
        "id": "nwaRQJAauvKN",
        "outputId": "2cd84930-f98b-4cc8-fc92-de68a9bcd220"
      },
      "execution_count": 6,
      "outputs": [
        {
          "output_type": "stream",
          "name": "stdout",
          "text": [
            "Epoch 1/25\n",
            "\u001b[1m1/1\u001b[0m \u001b[32m━━━━━━━━━━━━━━━━━━━━\u001b[0m\u001b[37m\u001b[0m \u001b[1m1s\u001b[0m 1s/step - accuracy: 0.7500 - loss: 0.7135\n",
            "Epoch 2/25\n",
            "\u001b[1m1/1\u001b[0m \u001b[32m━━━━━━━━━━━━━━━━━━━━\u001b[0m\u001b[37m\u001b[0m \u001b[1m0s\u001b[0m 55ms/step - accuracy: 0.7500 - loss: 0.7000\n",
            "Epoch 3/25\n",
            "\u001b[1m1/1\u001b[0m \u001b[32m━━━━━━━━━━━━━━━━━━━━\u001b[0m\u001b[37m\u001b[0m \u001b[1m0s\u001b[0m 51ms/step - accuracy: 0.7500 - loss: 0.6885\n",
            "Epoch 4/25\n",
            "\u001b[1m1/1\u001b[0m \u001b[32m━━━━━━━━━━━━━━━━━━━━\u001b[0m\u001b[37m\u001b[0m \u001b[1m0s\u001b[0m 50ms/step - accuracy: 0.5000 - loss: 0.6776\n",
            "Epoch 5/25\n",
            "\u001b[1m1/1\u001b[0m \u001b[32m━━━━━━━━━━━━━━━━━━━━\u001b[0m\u001b[37m\u001b[0m \u001b[1m0s\u001b[0m 52ms/step - accuracy: 0.5000 - loss: 0.6676\n",
            "Epoch 6/25\n",
            "\u001b[1m1/1\u001b[0m \u001b[32m━━━━━━━━━━━━━━━━━━━━\u001b[0m\u001b[37m\u001b[0m \u001b[1m0s\u001b[0m 59ms/step - accuracy: 0.5000 - loss: 0.6583\n",
            "Epoch 7/25\n",
            "\u001b[1m1/1\u001b[0m \u001b[32m━━━━━━━━━━━━━━━━━━━━\u001b[0m\u001b[37m\u001b[0m \u001b[1m0s\u001b[0m 51ms/step - accuracy: 0.7500 - loss: 0.6490\n",
            "Epoch 8/25\n",
            "\u001b[1m1/1\u001b[0m \u001b[32m━━━━━━━━━━━━━━━━━━━━\u001b[0m\u001b[37m\u001b[0m \u001b[1m0s\u001b[0m 56ms/step - accuracy: 0.7500 - loss: 0.6397\n",
            "Epoch 9/25\n",
            "\u001b[1m1/1\u001b[0m \u001b[32m━━━━━━━━━━━━━━━━━━━━\u001b[0m\u001b[37m\u001b[0m \u001b[1m0s\u001b[0m 52ms/step - accuracy: 0.7500 - loss: 0.6303\n",
            "Epoch 10/25\n",
            "\u001b[1m1/1\u001b[0m \u001b[32m━━━━━━━━━━━━━━━━━━━━\u001b[0m\u001b[37m\u001b[0m \u001b[1m0s\u001b[0m 55ms/step - accuracy: 0.7500 - loss: 0.6208\n",
            "Epoch 11/25\n",
            "\u001b[1m1/1\u001b[0m \u001b[32m━━━━━━━━━━━━━━━━━━━━\u001b[0m\u001b[37m\u001b[0m \u001b[1m0s\u001b[0m 50ms/step - accuracy: 0.7500 - loss: 0.6113\n",
            "Epoch 12/25\n",
            "\u001b[1m1/1\u001b[0m \u001b[32m━━━━━━━━━━━━━━━━━━━━\u001b[0m\u001b[37m\u001b[0m \u001b[1m0s\u001b[0m 51ms/step - accuracy: 0.7500 - loss: 0.6020\n",
            "Epoch 13/25\n",
            "\u001b[1m1/1\u001b[0m \u001b[32m━━━━━━━━━━━━━━━━━━━━\u001b[0m\u001b[37m\u001b[0m \u001b[1m0s\u001b[0m 51ms/step - accuracy: 0.7500 - loss: 0.5925\n",
            "Epoch 14/25\n",
            "\u001b[1m1/1\u001b[0m \u001b[32m━━━━━━━━━━━━━━━━━━━━\u001b[0m\u001b[37m\u001b[0m \u001b[1m0s\u001b[0m 143ms/step - accuracy: 0.7500 - loss: 0.5826\n",
            "Epoch 15/25\n",
            "\u001b[1m1/1\u001b[0m \u001b[32m━━━━━━━━━━━━━━━━━━━━\u001b[0m\u001b[37m\u001b[0m \u001b[1m0s\u001b[0m 55ms/step - accuracy: 0.7500 - loss: 0.5729\n",
            "Epoch 16/25\n",
            "\u001b[1m1/1\u001b[0m \u001b[32m━━━━━━━━━━━━━━━━━━━━\u001b[0m\u001b[37m\u001b[0m \u001b[1m0s\u001b[0m 52ms/step - accuracy: 1.0000 - loss: 0.5633\n",
            "Epoch 17/25\n",
            "\u001b[1m1/1\u001b[0m \u001b[32m━━━━━━━━━━━━━━━━━━━━\u001b[0m\u001b[37m\u001b[0m \u001b[1m0s\u001b[0m 58ms/step - accuracy: 1.0000 - loss: 0.5535\n",
            "Epoch 18/25\n",
            "\u001b[1m1/1\u001b[0m \u001b[32m━━━━━━━━━━━━━━━━━━━━\u001b[0m\u001b[37m\u001b[0m \u001b[1m0s\u001b[0m 58ms/step - accuracy: 1.0000 - loss: 0.5434\n",
            "Epoch 19/25\n",
            "\u001b[1m1/1\u001b[0m \u001b[32m━━━━━━━━━━━━━━━━━━━━\u001b[0m\u001b[37m\u001b[0m \u001b[1m0s\u001b[0m 54ms/step - accuracy: 1.0000 - loss: 0.5330\n",
            "Epoch 20/25\n",
            "\u001b[1m1/1\u001b[0m \u001b[32m━━━━━━━━━━━━━━━━━━━━\u001b[0m\u001b[37m\u001b[0m \u001b[1m0s\u001b[0m 58ms/step - accuracy: 1.0000 - loss: 0.5227\n",
            "Epoch 21/25\n",
            "\u001b[1m1/1\u001b[0m \u001b[32m━━━━━━━━━━━━━━━━━━━━\u001b[0m\u001b[37m\u001b[0m \u001b[1m0s\u001b[0m 53ms/step - accuracy: 1.0000 - loss: 0.5120\n",
            "Epoch 22/25\n",
            "\u001b[1m1/1\u001b[0m \u001b[32m━━━━━━━━━━━━━━━━━━━━\u001b[0m\u001b[37m\u001b[0m \u001b[1m0s\u001b[0m 58ms/step - accuracy: 1.0000 - loss: 0.5013\n",
            "Epoch 23/25\n",
            "\u001b[1m1/1\u001b[0m \u001b[32m━━━━━━━━━━━━━━━━━━━━\u001b[0m\u001b[37m\u001b[0m \u001b[1m0s\u001b[0m 61ms/step - accuracy: 1.0000 - loss: 0.4907\n",
            "Epoch 24/25\n",
            "\u001b[1m1/1\u001b[0m \u001b[32m━━━━━━━━━━━━━━━━━━━━\u001b[0m\u001b[37m\u001b[0m \u001b[1m0s\u001b[0m 56ms/step - accuracy: 1.0000 - loss: 0.4799\n",
            "Epoch 25/25\n",
            "\u001b[1m1/1\u001b[0m \u001b[32m━━━━━━━━━━━━━━━━━━━━\u001b[0m\u001b[37m\u001b[0m \u001b[1m0s\u001b[0m 52ms/step - accuracy: 1.0000 - loss: 0.4688\n"
          ]
        },
        {
          "output_type": "execute_result",
          "data": {
            "text/plain": [
              "<keras.src.callbacks.history.History at 0x780340ac9710>"
            ]
          },
          "metadata": {},
          "execution_count": 6
        }
      ]
    },
    {
      "cell_type": "markdown",
      "source": [
        "**Q10.How can you create a custom loss function in Keras?**"
      ],
      "metadata": {
        "id": "yo4ywZkxvJgK"
      }
    },
    {
      "cell_type": "code",
      "source": [
        "import tensorflow as tf\n",
        "import numpy as np\n",
        "from tensorflow.keras.models import Sequential\n",
        "from tensorflow.keras.layers import Dense\n",
        "\n",
        "# Step 1: Define custom loss function\n",
        "def custom_mse(y_true, y_pred):\n",
        "    return tf.reduce_mean(tf.square(y_true - y_pred))\n",
        "\n",
        "# Step 2: Create model\n",
        "model = Sequential()\n",
        "model.add(Dense(8, input_shape=(2,), activation='relu'))\n",
        "model.add(Dense(1, activation='sigmoid'))\n",
        "\n",
        "# Step 3: Compile model with custom loss\n",
        "model.compile(optimizer='adam', loss=custom_mse, metrics=['accuracy'])\n",
        "\n",
        "# Step 4: Input data\n",
        "X = np.array([[0,0],[0,1],[1,0],[1,1]])\n",
        "y = np.array([0,0,0,1])\n",
        "\n",
        "# Step 5: Train model\n",
        "model.fit(X, y, epochs=25)\n"
      ],
      "metadata": {
        "colab": {
          "base_uri": "https://localhost:8080/"
        },
        "id": "yckldp0rvAbe",
        "outputId": "8d131a15-80d1-452e-c57d-4fe18584fbde"
      },
      "execution_count": 8,
      "outputs": [
        {
          "output_type": "stream",
          "name": "stdout",
          "text": [
            "Epoch 1/25\n",
            "\u001b[1m1/1\u001b[0m \u001b[32m━━━━━━━━━━━━━━━━━━━━\u001b[0m\u001b[37m\u001b[0m \u001b[1m1s\u001b[0m 891ms/step - accuracy: 0.5000 - loss: 0.2763\n",
            "Epoch 2/25\n",
            "\u001b[1m1/1\u001b[0m \u001b[32m━━━━━━━━━━━━━━━━━━━━\u001b[0m\u001b[37m\u001b[0m \u001b[1m0s\u001b[0m 49ms/step - accuracy: 0.5000 - loss: 0.2758\n",
            "Epoch 3/25\n",
            "\u001b[1m1/1\u001b[0m \u001b[32m━━━━━━━━━━━━━━━━━━━━\u001b[0m\u001b[37m\u001b[0m \u001b[1m0s\u001b[0m 60ms/step - accuracy: 0.5000 - loss: 0.2753\n",
            "Epoch 4/25\n",
            "\u001b[1m1/1\u001b[0m \u001b[32m━━━━━━━━━━━━━━━━━━━━\u001b[0m\u001b[37m\u001b[0m \u001b[1m0s\u001b[0m 65ms/step - accuracy: 0.5000 - loss: 0.2747\n",
            "Epoch 5/25\n",
            "\u001b[1m1/1\u001b[0m \u001b[32m━━━━━━━━━━━━━━━━━━━━\u001b[0m\u001b[37m\u001b[0m \u001b[1m0s\u001b[0m 50ms/step - accuracy: 0.5000 - loss: 0.2742\n",
            "Epoch 6/25\n",
            "\u001b[1m1/1\u001b[0m \u001b[32m━━━━━━━━━━━━━━━━━━━━\u001b[0m\u001b[37m\u001b[0m \u001b[1m0s\u001b[0m 55ms/step - accuracy: 0.5000 - loss: 0.2737\n",
            "Epoch 7/25\n",
            "\u001b[1m1/1\u001b[0m \u001b[32m━━━━━━━━━━━━━━━━━━━━\u001b[0m\u001b[37m\u001b[0m \u001b[1m0s\u001b[0m 55ms/step - accuracy: 0.5000 - loss: 0.2731\n",
            "Epoch 8/25\n",
            "\u001b[1m1/1\u001b[0m \u001b[32m━━━━━━━━━━━━━━━━━━━━\u001b[0m\u001b[37m\u001b[0m \u001b[1m0s\u001b[0m 53ms/step - accuracy: 0.5000 - loss: 0.2726\n",
            "Epoch 9/25\n",
            "\u001b[1m1/1\u001b[0m \u001b[32m━━━━━━━━━━━━━━━━━━━━\u001b[0m\u001b[37m\u001b[0m \u001b[1m0s\u001b[0m 49ms/step - accuracy: 0.5000 - loss: 0.2721\n",
            "Epoch 10/25\n",
            "\u001b[1m1/1\u001b[0m \u001b[32m━━━━━━━━━━━━━━━━━━━━\u001b[0m\u001b[37m\u001b[0m \u001b[1m0s\u001b[0m 58ms/step - accuracy: 0.5000 - loss: 0.2716\n",
            "Epoch 11/25\n",
            "\u001b[1m1/1\u001b[0m \u001b[32m━━━━━━━━━━━━━━━━━━━━\u001b[0m\u001b[37m\u001b[0m \u001b[1m0s\u001b[0m 56ms/step - accuracy: 0.5000 - loss: 0.2710\n",
            "Epoch 12/25\n",
            "\u001b[1m1/1\u001b[0m \u001b[32m━━━━━━━━━━━━━━━━━━━━\u001b[0m\u001b[37m\u001b[0m \u001b[1m0s\u001b[0m 49ms/step - accuracy: 0.5000 - loss: 0.2705\n",
            "Epoch 13/25\n",
            "\u001b[1m1/1\u001b[0m \u001b[32m━━━━━━━━━━━━━━━━━━━━\u001b[0m\u001b[37m\u001b[0m \u001b[1m0s\u001b[0m 56ms/step - accuracy: 0.5000 - loss: 0.2700\n",
            "Epoch 14/25\n",
            "\u001b[1m1/1\u001b[0m \u001b[32m━━━━━━━━━━━━━━━━━━━━\u001b[0m\u001b[37m\u001b[0m \u001b[1m0s\u001b[0m 59ms/step - accuracy: 0.5000 - loss: 0.2694\n",
            "Epoch 15/25\n",
            "\u001b[1m1/1\u001b[0m \u001b[32m━━━━━━━━━━━━━━━━━━━━\u001b[0m\u001b[37m\u001b[0m \u001b[1m0s\u001b[0m 57ms/step - accuracy: 0.5000 - loss: 0.2689\n",
            "Epoch 16/25\n",
            "\u001b[1m1/1\u001b[0m \u001b[32m━━━━━━━━━━━━━━━━━━━━\u001b[0m\u001b[37m\u001b[0m \u001b[1m0s\u001b[0m 52ms/step - accuracy: 0.5000 - loss: 0.2684\n",
            "Epoch 17/25\n",
            "\u001b[1m1/1\u001b[0m \u001b[32m━━━━━━━━━━━━━━━━━━━━\u001b[0m\u001b[37m\u001b[0m \u001b[1m0s\u001b[0m 49ms/step - accuracy: 0.5000 - loss: 0.2679\n",
            "Epoch 18/25\n",
            "\u001b[1m1/1\u001b[0m \u001b[32m━━━━━━━━━━━━━━━━━━━━\u001b[0m\u001b[37m\u001b[0m \u001b[1m0s\u001b[0m 59ms/step - accuracy: 0.5000 - loss: 0.2674\n",
            "Epoch 19/25\n",
            "\u001b[1m1/1\u001b[0m \u001b[32m━━━━━━━━━━━━━━━━━━━━\u001b[0m\u001b[37m\u001b[0m \u001b[1m0s\u001b[0m 53ms/step - accuracy: 0.5000 - loss: 0.2668\n",
            "Epoch 20/25\n",
            "\u001b[1m1/1\u001b[0m \u001b[32m━━━━━━━━━━━━━━━━━━━━\u001b[0m\u001b[37m\u001b[0m \u001b[1m0s\u001b[0m 51ms/step - accuracy: 0.5000 - loss: 0.2663\n",
            "Epoch 21/25\n",
            "\u001b[1m1/1\u001b[0m \u001b[32m━━━━━━━━━━━━━━━━━━━━\u001b[0m\u001b[37m\u001b[0m \u001b[1m0s\u001b[0m 71ms/step - accuracy: 0.5000 - loss: 0.2658\n",
            "Epoch 22/25\n",
            "\u001b[1m1/1\u001b[0m \u001b[32m━━━━━━━━━━━━━━━━━━━━\u001b[0m\u001b[37m\u001b[0m \u001b[1m0s\u001b[0m 51ms/step - accuracy: 0.5000 - loss: 0.2653\n",
            "Epoch 23/25\n",
            "\u001b[1m1/1\u001b[0m \u001b[32m━━━━━━━━━━━━━━━━━━━━\u001b[0m\u001b[37m\u001b[0m \u001b[1m0s\u001b[0m 61ms/step - accuracy: 0.5000 - loss: 0.2648\n",
            "Epoch 24/25\n",
            "\u001b[1m1/1\u001b[0m \u001b[32m━━━━━━━━━━━━━━━━━━━━\u001b[0m\u001b[37m\u001b[0m \u001b[1m0s\u001b[0m 55ms/step - accuracy: 0.5000 - loss: 0.2642\n",
            "Epoch 25/25\n",
            "\u001b[1m1/1\u001b[0m \u001b[32m━━━━━━━━━━━━━━━━━━━━\u001b[0m\u001b[37m\u001b[0m \u001b[1m0s\u001b[0m 58ms/step - accuracy: 0.5000 - loss: 0.2637\n"
          ]
        },
        {
          "output_type": "execute_result",
          "data": {
            "text/plain": [
              "<keras.src.callbacks.history.History at 0x78034098c8d0>"
            ]
          },
          "metadata": {},
          "execution_count": 8
        }
      ]
    },
    {
      "cell_type": "markdown",
      "source": [
        "**Q11.How can you visualize the structure of a neural network model in Keras?**"
      ],
      "metadata": {
        "id": "rv4VlcQOxDsk"
      }
    },
    {
      "cell_type": "code",
      "source": [
        "from tensorflow.keras.models import Sequential\n",
        "from tensorflow.keras.layers import Dense\n",
        "\n",
        "# Create model\n",
        "model = Sequential()\n",
        "model.add(Dense(8, input_shape=(2,), activation='relu'))\n",
        "model.add(Dense(4, activation='relu'))\n",
        "model.add(Dense(1, activation='sigmoid'))\n",
        "\n",
        "# Visual summary in terminal\n",
        "model.summary()\n"
      ],
      "metadata": {
        "colab": {
          "base_uri": "https://localhost:8080/",
          "height": 225
        },
        "id": "8SirlG94xJDx",
        "outputId": "7ac8eee8-ca09-42c9-f162-ded062169738"
      },
      "execution_count": 9,
      "outputs": [
        {
          "output_type": "display_data",
          "data": {
            "text/plain": [
              "\u001b[1mModel: \"sequential_7\"\u001b[0m\n"
            ],
            "text/html": [
              "<pre style=\"white-space:pre;overflow-x:auto;line-height:normal;font-family:Menlo,'DejaVu Sans Mono',consolas,'Courier New',monospace\"><span style=\"font-weight: bold\">Model: \"sequential_7\"</span>\n",
              "</pre>\n"
            ]
          },
          "metadata": {}
        },
        {
          "output_type": "display_data",
          "data": {
            "text/plain": [
              "┏━━━━━━━━━━━━━━━━━━━━━━━━━━━━━━━━━┳━━━━━━━━━━━━━━━━━━━━━━━━┳━━━━━━━━━━━━━━━┓\n",
              "┃\u001b[1m \u001b[0m\u001b[1mLayer (type)                   \u001b[0m\u001b[1m \u001b[0m┃\u001b[1m \u001b[0m\u001b[1mOutput Shape          \u001b[0m\u001b[1m \u001b[0m┃\u001b[1m \u001b[0m\u001b[1m      Param #\u001b[0m\u001b[1m \u001b[0m┃\n",
              "┡━━━━━━━━━━━━━━━━━━━━━━━━━━━━━━━━━╇━━━━━━━━━━━━━━━━━━━━━━━━╇━━━━━━━━━━━━━━━┩\n",
              "│ dense_16 (\u001b[38;5;33mDense\u001b[0m)                │ (\u001b[38;5;45mNone\u001b[0m, \u001b[38;5;34m8\u001b[0m)              │            \u001b[38;5;34m24\u001b[0m │\n",
              "├─────────────────────────────────┼────────────────────────┼───────────────┤\n",
              "│ dense_17 (\u001b[38;5;33mDense\u001b[0m)                │ (\u001b[38;5;45mNone\u001b[0m, \u001b[38;5;34m4\u001b[0m)              │            \u001b[38;5;34m36\u001b[0m │\n",
              "├─────────────────────────────────┼────────────────────────┼───────────────┤\n",
              "│ dense_18 (\u001b[38;5;33mDense\u001b[0m)                │ (\u001b[38;5;45mNone\u001b[0m, \u001b[38;5;34m1\u001b[0m)              │             \u001b[38;5;34m5\u001b[0m │\n",
              "└─────────────────────────────────┴────────────────────────┴───────────────┘\n"
            ],
            "text/html": [
              "<pre style=\"white-space:pre;overflow-x:auto;line-height:normal;font-family:Menlo,'DejaVu Sans Mono',consolas,'Courier New',monospace\">┏━━━━━━━━━━━━━━━━━━━━━━━━━━━━━━━━━┳━━━━━━━━━━━━━━━━━━━━━━━━┳━━━━━━━━━━━━━━━┓\n",
              "┃<span style=\"font-weight: bold\"> Layer (type)                    </span>┃<span style=\"font-weight: bold\"> Output Shape           </span>┃<span style=\"font-weight: bold\">       Param # </span>┃\n",
              "┡━━━━━━━━━━━━━━━━━━━━━━━━━━━━━━━━━╇━━━━━━━━━━━━━━━━━━━━━━━━╇━━━━━━━━━━━━━━━┩\n",
              "│ dense_16 (<span style=\"color: #0087ff; text-decoration-color: #0087ff\">Dense</span>)                │ (<span style=\"color: #00d7ff; text-decoration-color: #00d7ff\">None</span>, <span style=\"color: #00af00; text-decoration-color: #00af00\">8</span>)              │            <span style=\"color: #00af00; text-decoration-color: #00af00\">24</span> │\n",
              "├─────────────────────────────────┼────────────────────────┼───────────────┤\n",
              "│ dense_17 (<span style=\"color: #0087ff; text-decoration-color: #0087ff\">Dense</span>)                │ (<span style=\"color: #00d7ff; text-decoration-color: #00d7ff\">None</span>, <span style=\"color: #00af00; text-decoration-color: #00af00\">4</span>)              │            <span style=\"color: #00af00; text-decoration-color: #00af00\">36</span> │\n",
              "├─────────────────────────────────┼────────────────────────┼───────────────┤\n",
              "│ dense_18 (<span style=\"color: #0087ff; text-decoration-color: #0087ff\">Dense</span>)                │ (<span style=\"color: #00d7ff; text-decoration-color: #00d7ff\">None</span>, <span style=\"color: #00af00; text-decoration-color: #00af00\">1</span>)              │             <span style=\"color: #00af00; text-decoration-color: #00af00\">5</span> │\n",
              "└─────────────────────────────────┴────────────────────────┴───────────────┘\n",
              "</pre>\n"
            ]
          },
          "metadata": {}
        },
        {
          "output_type": "display_data",
          "data": {
            "text/plain": [
              "\u001b[1m Total params: \u001b[0m\u001b[38;5;34m65\u001b[0m (260.00 B)\n"
            ],
            "text/html": [
              "<pre style=\"white-space:pre;overflow-x:auto;line-height:normal;font-family:Menlo,'DejaVu Sans Mono',consolas,'Courier New',monospace\"><span style=\"font-weight: bold\"> Total params: </span><span style=\"color: #00af00; text-decoration-color: #00af00\">65</span> (260.00 B)\n",
              "</pre>\n"
            ]
          },
          "metadata": {}
        },
        {
          "output_type": "display_data",
          "data": {
            "text/plain": [
              "\u001b[1m Trainable params: \u001b[0m\u001b[38;5;34m65\u001b[0m (260.00 B)\n"
            ],
            "text/html": [
              "<pre style=\"white-space:pre;overflow-x:auto;line-height:normal;font-family:Menlo,'DejaVu Sans Mono',consolas,'Courier New',monospace\"><span style=\"font-weight: bold\"> Trainable params: </span><span style=\"color: #00af00; text-decoration-color: #00af00\">65</span> (260.00 B)\n",
              "</pre>\n"
            ]
          },
          "metadata": {}
        },
        {
          "output_type": "display_data",
          "data": {
            "text/plain": [
              "\u001b[1m Non-trainable params: \u001b[0m\u001b[38;5;34m0\u001b[0m (0.00 B)\n"
            ],
            "text/html": [
              "<pre style=\"white-space:pre;overflow-x:auto;line-height:normal;font-family:Menlo,'DejaVu Sans Mono',consolas,'Courier New',monospace\"><span style=\"font-weight: bold\"> Non-trainable params: </span><span style=\"color: #00af00; text-decoration-color: #00af00\">0</span> (0.00 B)\n",
              "</pre>\n"
            ]
          },
          "metadata": {}
        }
      ]
    },
    {
      "cell_type": "code",
      "source": [
        "from tensorflow.keras.utils import plot_model\n",
        "\n",
        "# Save model structure to an image file\n",
        "plot_model(model, show_shapes=True, show_layer_names=True, to_file='model_structure.png')\n"
      ],
      "metadata": {
        "colab": {
          "base_uri": "https://localhost:8080/",
          "height": 939
        },
        "id": "WuZXPR1ewlFh",
        "outputId": "4f2db751-1942-4fe2-ca93-aaecfaf7a4c7"
      },
      "execution_count": 10,
      "outputs": [
        {
          "output_type": "execute_result",
          "data": {
            "image/png": "[encoded data removed]",
            "text/plain": [
              "<IPython.core.display.Image object>"
            ]
          },
          "metadata": {},
          "execution_count": 10
        }
      ]
    },
    {
      "cell_type": "code",
      "source": [],
      "metadata": {
        "id": "gKNeG1F5xoPu"
      },
      "execution_count": null,
      "outputs": []
    }
  ]
}